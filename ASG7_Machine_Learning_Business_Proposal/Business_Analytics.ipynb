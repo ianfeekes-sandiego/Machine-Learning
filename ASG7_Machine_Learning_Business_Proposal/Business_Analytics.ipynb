{
 "cells": [
  {
   "cell_type": "markdown",
   "id": "edc44b68",
   "metadata": {},
   "source": [
    "# Business Analytics ASG7:\n",
    "This notebook contains the submission materials for Ian Feekes' submission of Module 7 USD MSAAI Machine Learning fundamentals class. \n",
    "\n",
    "If the material in this submission does not meet requirements, please email me at ifeekes@sandiego.edu and I will gratefully and expediently remedy the situation. \n",
    "\n",
    "The material for this code should live in the repository here: https://github.com/USD-AAI/aai-510-01-su22-new-ianfeekes-sandiego/tree/main/Module_7\n",
    "\n",
    "Thank you for taking the time to teach me and to evaluate my work!"
   ]
  },
  {
   "attachments": {
    "image.png": {
     "image/png": "[encoded data removed]"
    }
   },
   "cell_type": "markdown",
   "id": "33fc852c",
   "metadata": {},
   "source": [
    "## Note 1\n",
    "Note 1 calculates a low-ball estimate of the value gained per user\n",
    "![image.png](attachment:image.png)"
   ]
  },
  {
   "cell_type": "code",
   "execution_count": 18,
   "id": "f78d84b6",
   "metadata": {},
   "outputs": [],
   "source": [
    "import pandas as pd\n",
    "\n",
    "data = pd.read_csv('dataset/application_train.csv')\n",
    "dataTest = pd.read_csv('dataset/application_test.csv')"
   ]
  },
  {
   "cell_type": "code",
   "execution_count": 19,
   "id": "d5e10636",
   "metadata": {},
   "outputs": [],
   "source": [
    "meanCredit = data['AMT_CREDIT'].mean()\n",
    "meanRoi = .058                      # A low-ball on the average credit in the United States over the last 10 years\n",
    "meanYears = 10                     # Also a low-ball. Most US home loan durations are closer to 12 years\n",
    "n = 12"
   ]
  },
  {
   "cell_type": "code",
   "execution_count": 22,
   "id": "82b7369d",
   "metadata": {},
   "outputs": [
    {
     "name": "stdout",
     "output_type": "stream",
     "text": [
      "Projected Profit per User: 469363.69522864535\n"
     ]
    }
   ],
   "source": [
    "#compound_interest = initial * ((1 + (rate / n)) ** (n * t))\n",
    "compound_interest = meanCredit * ((1 + (meanRoi / n)) ** (n * meanYears))\n",
    "profit = compound_interest - meanCredit\n",
    "print(\"Projected Profit per User:\",profit)"
   ]
  },
  {
   "cell_type": "code",
   "execution_count": 29,
   "id": "d691876d",
   "metadata": {},
   "outputs": [
    {
     "name": "stdout",
     "output_type": "stream",
     "text": [
      "Total Profits for a 1.0 % boost in accuracy affecting 35625.5 users would bring in: $ 167213163.24368104\n"
     ]
    }
   ],
   "source": [
    "accuracyImprovement = .01\n",
    "\n",
    "# Calculate total profits from users in data given an accuracy improvement\n",
    "numUsers = dataTest.shape[0] + data.shape[0]\n",
    "numUsersAccuracy = numUsers * accuracyImprovement\n",
    "totalProfits  = numUsersAccuracy * profit\n",
    "\n",
    "# Over the course of 10 years\n",
    "totalProfits = totalProfits / 10\n",
    "numUsersAccuracy = numUsers / 10\n",
    "print(\"Total Profits for a\",accuracyImprovement*100,\"% boost in accuracy affecting\",numUsersAccuracy,\"users would bring in: $\",totalProfits)"
   ]
  },
  {
   "cell_type": "markdown",
   "id": "288f5875",
   "metadata": {},
   "source": [
    "So given the user data and some low-ball averages stretched out on a yearly basis we get an obscene number of $167,213,163 for a 1% accuracy improvement."
   ]
  },
  {
   "cell_type": "code",
   "execution_count": null,
   "id": "21ef6b7b",
   "metadata": {},
   "outputs": [],
   "source": []
  }
 ],
 "metadata": {
  "interpreter": {
   "hash": "31f2aee4e71d21fbe5cf8b01ff0e069b9275f58929596ceb00d14d90e3e16cd6"
  },
  "kernelspec": {
   "display_name": "Python 3 (ipykernel)",
   "language": "python",
   "name": "python3"
  },
  "language_info": {
   "codemirror_mode": {
    "name": "ipython",
    "version": 3
   },
   "file_extension": ".py",
   "mimetype": "text/x-python",
   "name": "python",
   "nbconvert_exporter": "python",
   "pygments_lexer": "ipython3",
   "version": "3.8.10"
  }
 },
 "nbformat": 4,
 "nbformat_minor": 5
}
