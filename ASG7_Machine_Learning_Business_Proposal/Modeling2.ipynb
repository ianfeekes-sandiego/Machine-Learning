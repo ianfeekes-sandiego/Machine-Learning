{
 "cells": [
  {
   "cell_type": "markdown",
   "id": "edc44b68",
   "metadata": {},
   "source": [
    "# ASG7:\n",
    "This notebook contains the submission materials for Ian Feekes' submission of Module 7 USD MSAAI Machine Learning fundamentals class. \n",
    "\n",
    "If the material in this submission does not meet requirements, please email me at ifeekes@sandiego.edu and I will gratefully and expediently remedy the situation. \n",
    "\n",
    "The material for this code should live in the repository here: https://github.com/USD-AAI/aai-510-01-su22-new-ianfeekes-sandiego/tree/main/Module_7\n",
    "\n",
    "Thank you for taking the time to teach me and to evaluate my work!"
   ]
  },
  {
   "cell_type": "markdown",
   "id": "a061eafe",
   "metadata": {},
   "source": [
    "## Prompt:\n",
    "Hidden Markov models have gained popularity for time series and longitudinal data in recent years due to a combination of (relative) simplicity and flexibility in adapting the model to novel situations.\n",
    "\n",
    "The objective of this exercise is to identify the time-series component of this data set and use it to improve the predictive performance of your Gradient Boosted Model from Module 4.\n",
    "\n",
    "Pick one or more data files from the Home Credit Default Risk data to build a HMM model. \n",
    "###### Provide 3 reason(s) for using that data file.\n",
    "Build the HMM model from the data file and use it to \n",
    "###### improve the performance of the Gradient Boosted Tree (GBT) model from Module 4.\n",
    "Chart the impact of adding the HMM model to the mix. \n",
    "###### Theorize on why you observe the results obtained."
   ]
  },
  {
   "cell_type": "markdown",
   "id": "2cac0c54",
   "metadata": {},
   "source": [
    "## Analysis: "
   ]
  },
  {
   "cell_type": "markdown",
   "id": "3914fec8",
   "metadata": {},
   "source": [
    "##### Data File:\n",
    "The data file I selected for constructing the HMM is bureau_balance.csv. The file details previous loan statuses for a subset of users in previous loan payments. This is categorized into 8 various states, which the HMM aggregates into 4 (performing, modified, non-performing, default). The un-treated state for \"default\" of which we are particularly interested in, is set to 4. The main reasons for selecting bureau_balance.csv are:\n",
    "\n",
    "1) Powerful: \n",
    "\n",
    "bureau_balance.csv has a very robust amount of observations and number of unique users. The file is same size as credit_card_balance.csv while only containing 3 columns (and 2.7 million entries). Having a larger time-series (averaging 12 observations per variable), is very desirable when generating a HMM. This allows us to know that the underlying model is trained on long Markov chains and is minimally subject to poor-fitting. \n",
    "\n",
    "2) Time-series component intuitively correlated with target:\n",
    "\n",
    "Loan statuses are categorized into states that can be directly translated to HMM states. These statuses include a defaulting state, and several non-performing states in increasing severity with respect to time. There are over 62,000 occurrences of defaulting, and many more of non-performing payment states of which we can clean some significant insight towards a Target variable which, in the training data set, has a very poor distribution\n",
    "\n",
    "3) Clean Data, simple:\n",
    "\n",
    "\n",
    "Bureau_balance.csv contains previous loan status for users in a pre-sorted time series. There are no duplicate timestamps for any given ID nor missing values, bad types, etc. The file minimizes dimensionality, and the obscurity associate with it.\n",
    "\n",
    "Additionally, models trained with bureau_balanced could be further leveraged from bureau.csv data, if desired. "
   ]
  },
  {
   "cell_type": "markdown",
   "id": "87ffb7e4",
   "metadata": {},
   "source": [
    "##### Performance:\n",
    "The baseline performance for the GBT from assignment 4 was:\n",
    "\n",
    "Accuracy: 0.16609811967590615 \n",
    "\n",
    "Precision 0.09952045046202843\n",
    "\n",
    "With the HMM, the performance for the GBT is brought up to\n",
    "\n",
    "Accuracy: 0.19504214005120314 \n",
    "\n",
    "Precision 0.14088785098524390\n",
    "\n",
    "\n",
    "This shows a 3% improvement in performance to the GBT with use of the HMM on previous loan balance data."
   ]
  },
  {
   "cell_type": "markdown",
   "id": "d010bac3",
   "metadata": {},
   "source": [
    "##### Theorize Results\n",
    "This improvement in performance is due to the addition of a previous, time-based feature to the dataset which has a high correlation to the target variable. This intuitively makes sense as the utilization of time-based data in correlation with the present rings true with payments: one who has defaulted on loans in the past is more likely to default on loans in the future, and this is something that isn't necessarily captured in the training dataset. Predicting status from a series of payments in a previous loan adds quite a lot of value, without cursing the dimensionality with something that is particularly correlated with other features extracted by the GBT. \n",
    "\n",
    "This shows that the Markov Model is a powerful tool for utilizing time-based data and series of observations into a useful parameter for machine learning models."
   ]
  },
  {
   "cell_type": "markdown",
   "id": "f7e1d784",
   "metadata": {},
   "source": [
    "#### References:\n",
    "http://scikit-learn.sourceforge.net/stable/modules/hmm.html\n",
    "\n",
    "https://citeseerx.ist.psu.edu/viewdoc/download?doi=10.1.1.944.9873&rep=rep1&type=pdf\n",
    "\n",
    "https://hmmlearn.readthedocs.io/en/latest/tutorial.html#multiple-sequences\n",
    "\n",
    "https://run.unl.pt/bitstream/10362/63689/1/TEGI0435.pdf\n",
    "\n",
    "http://www.blackarbs.com/blog/introduction-hidden-markov-models-python-networkx-sklearn/2/9/2017\n",
    "\n",
    "[Rabiner89] A tutorial on hidden Markov models and selected applications in speech recognition Lawrence, R. Rabiner, 1989"
   ]
  },
  {
   "cell_type": "markdown",
   "id": "b5e53ad9",
   "metadata": {},
   "source": [
    "### Global Variables\n",
    "The following cell contains files used for directory organization, global flags, and other useful files"
   ]
  },
  {
   "cell_type": "code",
   "execution_count": 35,
   "id": "209535cd",
   "metadata": {},
   "outputs": [
    {
     "name": "stdout",
     "output_type": "stream",
     "text": [
      "Global variables cell completed...\n"
     ]
    }
   ],
   "source": [
    "# Global Variables\n",
    "debug = True                        # Displays additional logging output\n",
    "savePlots = False                   # Saves plot image files\n",
    "showCorrelation = False             # Saves information on correlation variablespca = PCA(10)\n",
    "targetColumnName = \"TARGET\"         # Name for column denoting dependant variable\n",
    "outlierThreshold = 3                # Number of standard deviations from which data will be classified as an outlier\n",
    "dropMissingValues = True            #Needs to be true for randomTreeRegressor\n",
    "plotAllVariables = False            # Plot boxplots and bar plots for the entire dataset - time consuming\n",
    "\n",
    "# Used for debugging display\n",
    "lineString = \"---------------------------------------------------------------------------------------------------------\"\n",
    "\n",
    "if debug == True:\n",
    "    print(\"Global variables cell completed...\")"
   ]
  },
  {
   "cell_type": "markdown",
   "id": "ee7345b7",
   "metadata": {},
   "source": [
    "### Library Inports\n",
    "The following cell contains various library imports used largely for data frames, data analysis, and plotting. "
   ]
  },
  {
   "cell_type": "code",
   "execution_count": 36,
   "id": "e13c9f7f-9248-447d-a522-de5f3b59344f",
   "metadata": {},
   "outputs": [
    {
     "name": "stdout",
     "output_type": "stream",
     "text": [
      "Library Imports Cell Completed...\n"
     ]
    }
   ],
   "source": [
    "# Library Imports\n",
    "from nis import cat\n",
    "from re import X\n",
    "import pandas as pd                 # Used for data frame\n",
    "import plotly                       # Saves html plots\n",
    "import plotly.express as px         # Used for displaying plots\n",
    "import os                           # Allows file manipulation and console debugging for offline jupyter\n",
    "import numpy as np\n",
    "from scipy import stats             # Used for outliers\n",
    "import matplotlib.pyplot as plt     # Used for pyplot heatmap plotting\n",
    "import seaborn as sns               # Used for showing heatmap\n",
    "from statsmodels.stats.outliers_influence import variance_inflation_factor\n",
    "from sklearn.ensemble import ExtraTreesClassifier\n",
    "from sklearn.feature_selection import SelectKBest, chi2\n",
    "from sklearn import linear_model\n",
    "import numpy as np\n",
    "import pandas as pd\n",
    "import matplotlib.pyplot as plt\n",
    "import seaborn as sns\n",
    "import lightgbm as lgb\n",
    "from sklearn.preprocessing import MinMaxScaler, LabelEncoder\n",
    "from sklearn.model_selection import train_test_split\n",
    "from sklearn.metrics import roc_curve, roc_auc_score, confusion_matrix\n",
    "    # Import the model we are using\n",
    "from sklearn.tree import DecisionTreeClassifier # Import Decision Tree Classifier\n",
    "from sklearn import metrics #Import scikit-learn metrics module for accuracy calculation\n",
    "\n",
    "from sklearn.ensemble import RandomForestRegressor\n",
    "#@TODO: Figure out if we want to delete this or not and use the sklearn tree\n",
    "from sklearn import tree\n",
    "from sklearn.datasets import load_iris\n",
    "import graphviz # Data Tree Visualization\n",
    "\n",
    "from sklearn.tree import DecisionTreeClassifier # Import Decision Tree Classifier\n",
    "import pickle                                   # Saving Models\n",
    "from sklearn.ensemble import RandomForestClassifier\n",
    "\n",
    "import graphviz # Data Tree Visualization\n",
    "from sklearn.tree import export_graphviz\n",
    "from six import StringIO  \n",
    "from IPython.display import Image  \n",
    "import pydotplus\n",
    "import pydot\n",
    "\n",
    "import phik\n",
    "from phik import resources\n",
    "from phik.binning import bin_data\n",
    "from phik.report import plot_correlation_matrix\n",
    "\n",
    "if debug == True:\n",
    "    print(\"Library Imports Cell Completed...\")"
   ]
  },
  {
   "cell_type": "markdown",
   "id": "b083e383",
   "metadata": {},
   "source": [
    "### Helper Functions\n",
    "The below cell contains various helper functions, which have descriptions of annotations in their headers"
   ]
  },
  {
   "cell_type": "code",
   "execution_count": 37,
   "id": "ed7c79d0",
   "metadata": {},
   "outputs": [
    {
     "name": "stdout",
     "output_type": "stream",
     "text": [
      "Helper functions successfully imported\n"
     ]
    }
   ],
   "source": [
    "# Helper Functions\n",
    "\n",
    "# Reads csv file into data frame and sets independant and dependant variables\n",
    "#\n",
    "# Parameters:\n",
    "# -----------\n",
    "# @param fileName: string for full relative file path of csv file\n",
    "# @param dependantVarColumnName: csv file column matching name of column for dependant variable\n",
    "# @param debug: flag for displaying debugger output\n",
    "#\n",
    "# Returns:\n",
    "# ---------\n",
    "# data: dataframe object of csv file reading\n",
    "# independantVars: independant variables (all data that isn't targetColumnName)\n",
    "# dependantVar: dependant variable\n",
    "#\n",
    "def readData(fileName, dependantVarColumnName = targetColumnName, debug = False):\n",
    "    independantVars = []\n",
    "    dependantVar = []\n",
    "    data = pd.read_csv(fileName)\n",
    "    index = None\n",
    "    for i ,col in enumerate(data.columns):\n",
    "        if col == dependantVarColumnName:\n",
    "            index = i\n",
    "    if index != None: \n",
    "        dependantVar = data.iloc[:, index]\n",
    "        independantVars = data.iloc[:]\n",
    "        independantVars.pop(dependantVarColumnName)\n",
    "    if debug:\n",
    "        print(\"readData...completed\")\n",
    "    return data, independantVars, dependantVar\n",
    "\n",
    "# Plots bar plots\n",
    "def doBar(data, column_name, figsize = (18,6), \n",
    "          percentage_display = True,\n",
    "          plot_defaulter = True, rotation = 0, \n",
    "          horizontal_adjust = 0, \n",
    "          fontsize_percent = 'xx-small',\n",
    "          dirName = 'images/initialPlots/'):\n",
    "\n",
    "    \n",
    "    print(f\"Total Number of unique categories of {column_name} = {len(data[column_name].unique())}\")\n",
    "    \n",
    "    plt.figure(figsize = figsize, tight_layout = False)\n",
    "    sns.set(style = 'whitegrid', font_scale = 1.2)\n",
    "    \n",
    "    #plotting overall distribution of category\n",
    "    plt.subplot(1,2,1)\n",
    "    data_to_plot = data[column_name].value_counts().sort_values(ascending = False)\n",
    "    ax = sns.barplot(x = data_to_plot.index, y = data_to_plot, palette = 'Set1')\n",
    "    \n",
    "    if percentage_display:\n",
    "        total_datapoints = len(data[column_name].dropna())\n",
    "        for p in ax.patches:\n",
    "            ax.text(p.get_x() + horizontal_adjust, p.get_height() + 0.005 * total_datapoints, '{:1.02f}%'.format(p.get_height() * 100 / total_datapoints), fontsize = fontsize_percent)\n",
    "        \n",
    "    plt.xlabel(column_name, labelpad = 10)\n",
    "    plt.title(f'Distribution of {column_name}', pad = 20)\n",
    "    plt.xticks(rotation = rotation)\n",
    "    plt.ylabel('Counts')\n",
    "    \n",
    "    #plotting distribution of category for Defaulters\n",
    "    if plot_defaulter and targetColumnName in data.columns:\n",
    "        percentage_defaulter_per_category = (data[column_name][data.TARGET == 1].value_counts() * 100 / data[column_name].value_counts()).dropna().sort_values(ascending = False)\n",
    "\n",
    "        plt.subplot(1,2,2)\n",
    "        sns.barplot(x = percentage_defaulter_per_category.index, y = percentage_defaulter_per_category, palette = 'Set2')\n",
    "        plt.ylabel('Percentage of Defaulter per category')\n",
    "        plt.xlabel(column_name, labelpad = 10)\n",
    "        plt.xticks(rotation = rotation)\n",
    "        plt.title(f'Percentage of Defaulters for each category of {column_name}', pad = 20)\n",
    "\n",
    "# Plots a column name of the dataframe and saves each plot into a file\n",
    "#\n",
    "# Parameters:\n",
    "# -----------\n",
    "# @param data:       dataframe to have distribution written to text file\n",
    "# @param plots:      types of plots for each column to show e.g. \"box\"\n",
    "# @param: figsize:   size of figure for matplotlib to plot\n",
    "# @param: log_scale: flag to log the scale of the plot\n",
    "#\n",
    "# Returns:\n",
    "# ---------\n",
    "# None\n",
    "#\n",
    "def plot_column(data,\n",
    "                column_name,\n",
    "                plots = [],\n",
    "                figsize = (20,8),\n",
    "                log_scale = False,\n",
    "                dirName = 'images/initialPlots/'):\n",
    "\n",
    "    if 'bar' in plots:\n",
    "        doBar(data, column_name, figsize, dirName = dirName)\n",
    "        return\n",
    "    data_to_plot = data.copy()\n",
    "    plt.figure(figsize = figsize)\n",
    "    sns.set_style('whitegrid')\n",
    "    \n",
    "    for i, ele in enumerate(plots):\n",
    "        plt.subplot(1, len(plots), i + 1)\n",
    "        plt.subplots_adjust(wspace=0.25)\n",
    "        if ele == 'CDF':\n",
    "            #making the percentile DataFrame for both positive and negative Class Labels\n",
    "            percentile_values_0 = data_to_plot[data_to_plot.TARGET == 0][[column_name]].dropna().sort_values(by = column_name)\n",
    "            percentile_values_0['Percentile'] = [ele / (len(percentile_values_0)-1) for ele in range(len(percentile_values_0))]\n",
    "            \n",
    "            percentile_values_1 = data_to_plot[data_to_plot.TARGET == 1][[column_name]].dropna().sort_values(by = column_name)\n",
    "            percentile_values_1['Percentile'] = [ele / (len(percentile_values_1)-1) for ele in range(len(percentile_values_1))]\n",
    "            \n",
    "            plt.plot(percentile_values_0[column_name], percentile_values_0['Percentile'], color = 'red', label = 'Non-Defaulters')\n",
    "            plt.plot(percentile_values_1[column_name], percentile_values_1['Percentile'], color = 'black', label = 'Defaulters')\n",
    "            plt.xlabel(column_name)\n",
    "            plt.ylabel('Probability')\n",
    "            plt.title('CDF of {}'.format(column_name))\n",
    "            plt.legend(fontsize = 'medium')\n",
    "            if log_scale:\n",
    "                plt.xscale('log')\n",
    "                plt.xlabel(column_name + ' - (log-scale)')\n",
    "        elif ele == 'distplot':\n",
    "            sns.distplot(data_to_plot[column_name][data['TARGET'] == 0].dropna(),\n",
    "                         label='Non-Defaulters', hist = False, color='red')\n",
    "            sns.distplot(data_to_plot[column_name][data['TARGET'] == 1].dropna(),\n",
    "                         label='Defaulters', hist = False, color='black')\n",
    "            plt.xlabel(column_name)\n",
    "            plt.ylabel('Probability Density')\n",
    "            plt.legend(fontsize='medium')\n",
    "            plt.title(\"Dist-Plot of {}\".format(column_name))\n",
    "            if log_scale:\n",
    "                plt.xscale('log')\n",
    "                plt.xlabel(f'{column_name} (log scale)')\n",
    "        elif ele == 'violin':  \n",
    "            sns.violinplot(x='TARGET', y=column_name, data=data_to_plot)\n",
    "            plt.title(\"Violin-Plot of {}\".format(column_name))\n",
    "            if log_scale:\n",
    "                plt.yscale('log')\n",
    "                plt.ylabel(f'{column_name} (log Scale)')\n",
    "        elif ele == 'box':  \n",
    "            sns.boxplot(x='TARGET', y=column_name, data=data_to_plot)\n",
    "            plt.title(\"Box-Plot of {}\".format(column_name))\n",
    "            if log_scale:\n",
    "                plt.yscale('log')\n",
    "                plt.ylabel(f'{column_name} (log Scale)')\n",
    "\n",
    "    \n",
    "# Plots distribution of TARGET variable\n",
    "#\n",
    "# Parameters:\n",
    "# -----------\n",
    "# @param data:   dataframe used for heatmap display\n",
    "# @param debug:  optional flag for debugging\n",
    "#\n",
    "# Returns\n",
    "# ---------\n",
    "# None\n",
    "#\n",
    "def showTargetPlot(data, debug = False):\n",
    "    class_dist = data[targetColumnName].value_counts()\n",
    "    # Plots a Bar chart\n",
    "    plt.figure(figsize=(12,3))\n",
    "    plt.title('Distribution of TARGET variable')\n",
    "    plt.barh(class_dist.index, class_dist.values)\n",
    "    plt.yticks([0, 1])\n",
    "    for i, value in enumerate(class_dist.values):\n",
    "        plt.text(value-2000, i, str(value), fontsize=12, color='white',\n",
    "                 horizontalalignment='right', verticalalignment='center')\n",
    "    plt.show()\n",
    "    # Or if you like pie more\n",
    "    fig, ax1 = plt.subplots()\n",
    "    ax1.pie(class_dist.values, labels = [\"Successfully Paid off Loan\", \"Defaulted\"])\n",
    "    ax1.axis('equal')\n",
    "    ax1.title.set_text(\"Pie Chart of Target Variable Frequencies\")\n",
    "    plt.show()\n",
    "\n",
    "    \n",
    "# Shows heatmap of all variables in data frame argument\n",
    "#\n",
    "# Parameters:\n",
    "# -----------\n",
    "# @param data:   dataframe used for heatmap display\n",
    "#\n",
    "# Returns\n",
    "# ---------\n",
    "# None\n",
    "#\n",
    "def showHeatmap(data):\n",
    "    corrmat = data.corr()\n",
    "    top_corr_features = corrmat.index\n",
    "    plt.figure(figsize=(20,20))\n",
    "    plt.title(\"Heatmap of all Variables\")\n",
    "    #plot heat map\n",
    "    g=sns.heatmap(data[top_corr_features].corr(),cmap=\"RdYlGn\")\n",
    "    plt.show()\n",
    "\n",
    "\n",
    "# Drops variables in a list from data frame and returns clipped data frame\n",
    "#\n",
    "# Parameters:\n",
    "# -----------\n",
    "# @param variables:   [list] List of column names to drop from data frame\n",
    "# @param dataFrame:   [df]   Data Frame from which to drop the variables\n",
    "#\n",
    "# Returns\n",
    "# ---------\n",
    "# Ret: Copy of data frame with variables dropped\n",
    "#\n",
    "def dropVariables(variables, dataFrame):\n",
    "    # Create return data frame\n",
    "    ret = dataFrame.copy()\n",
    "    # Variables used to determine success of dropping meaningless variables in cell\n",
    "    notDroppedYet = False\n",
    "    for i in variables:\n",
    "        if i in dataFrame.columns:\n",
    "            notDroppedYet = True\n",
    "    originalColumnNum = dataFrame.shape[0]                                      \n",
    "    # Verify something has been dropped and output for debug use\n",
    "    if notDroppedYet:\n",
    "        try:\n",
    "            # Remove any existing columns from our data frame\n",
    "            for i in variables:\n",
    "                if i in ret.columns:\n",
    "                    ret.drop(i, axis = 1, inplace = True)\n",
    "            assert(ret.shape[1] < originalColumnNum)\n",
    "            if debug == True:\n",
    "                print(\"Successfully dropped\", originalColumnNum - ret.shape[0],\"meaningless variables\")\n",
    "        except:\n",
    "            if debug == True:\n",
    "                print(\"Error: failed to drop columns when a column was initially present in the data frame\")\n",
    "    elif debug == True:\n",
    "        print(\"Meaningless variables already removed...skipping step\")\n",
    "    # Return dataframe with dropped variables, or unmodified\n",
    "    return ret\n",
    "\n",
    "\n",
    "# Gets columns present in data frame\n",
    "def columnsInDataFrame(variables, dataFrame):\n",
    "    ret = []\n",
    "    for i in variables:\n",
    "        if i in dataFrame.columns:\n",
    "            ret.append(i)\n",
    "    return ret\n",
    "\n",
    "if debug == True:\n",
    "    print(\"Helper functions successfully imported\")"
   ]
  },
  {
   "cell_type": "markdown",
   "id": "5ecadce9",
   "metadata": {},
   "source": [
    "## Read Data"
   ]
  },
  {
   "cell_type": "markdown",
   "id": "37a174a9",
   "metadata": {},
   "source": [
    "### Reading Training Data"
   ]
  },
  {
   "cell_type": "code",
   "execution_count": 38,
   "id": "a4c05d9c",
   "metadata": {},
   "outputs": [
    {
     "name": "stdout",
     "output_type": "stream",
     "text": [
      "readData...completed\n"
     ]
    }
   ],
   "source": [
    "# Read the data, assigning independant and dependant variables\n",
    "data, x, y = readData('./dataset/application_train.csv', targetColumnName, debug)"
   ]
  },
  {
   "cell_type": "markdown",
   "id": "d4bab0cb",
   "metadata": {},
   "source": [
    "## Data Cleaning"
   ]
  },
  {
   "cell_type": "code",
   "execution_count": 39,
   "id": "2c956c86",
   "metadata": {},
   "outputs": [],
   "source": [
    "def setAllNaN(df, badStringList = ['XNA', 'Other', 'Unknown']):\n",
    "    ret = df.copy()\n",
    "    for i in ret.columns:\n",
    "        # Find current number of NaN columns\n",
    "        numNan = ret.isnull().sum()[i]\n",
    "        for badString in badStringList:\n",
    "            ret[i] = np.where(ret[i] == badString, np.NaN, ret[i])\n",
    "        # Only display entries deleted for variables that have been manipulated\n",
    "        if debug == True and ret.isnull().sum()[i]-numNan > 0:\n",
    "            print(ret.isnull().sum()[i]-numNan,\"entries deleted for\",i)\n",
    "    # Verify before returning:\n",
    "    for i in ret.columns:\n",
    "        for entry in ret[i]:\n",
    "            try:\n",
    "                assert(not(entry in badStringList))\n",
    "            except:\n",
    "                if debug == True:\n",
    "                    print(\"setAllNaN: Error: bad string remained in data frame after removing: \", entry)\n",
    "                return False\n",
    "    return ret\n",
    "\n",
    "def splitTypes(df, ordinalColumns):\n",
    "    # Start with categorical:\n",
    "    \n",
    "    # Assume all string columns are categorical prior to encoding\n",
    "    categorical = df.select_dtypes(include = 'object')\n",
    "    # Get the columns that are actually in the data frame\n",
    "    ordinal = columnsInDataFrame(ordinalColumns, df)\n",
    "    # Don't duplicate any categorical columns, build our categorical data frame\n",
    "    for col in ordinal:\n",
    "        if col not in categorical.columns:\n",
    "            categorical = categorical.join(df[col])\n",
    "    # Add target column for plotting purposes if it's part of the data frame\n",
    "    if targetColumnName not in categorical.columns and targetColumnName in df.columns:\n",
    "        categorical = categorical.join(df[targetColumnName])\n",
    "        # Break if we are working with target column and it fails to get added to categorical\n",
    "        try:\n",
    "            assert(targetColumnName in categorical.columns)\n",
    "        except:\n",
    "            if debug == True:\n",
    "                print(\"splitTypes: error:\",targetColumnName,\"not in \",categorical.columns)\n",
    "            return False, False\n",
    "        \n",
    "    # Now for continuous it will be remainder, make sure to add target if desired:\n",
    "    continuous = df.drop(categorical, axis=1)\n",
    "    if targetColumnName not in continuous.columns and targetColumnName in df.columns:\n",
    "        continuous = continuous.join(df[targetColumnName])\n",
    "        # Break if we are working with target column and it fails to get added to continuous\n",
    "        try:\n",
    "            assert(targetColumnName in continuous.columns)\n",
    "        except:\n",
    "            if  debug == True:\n",
    "                print(\"splitTypes: error:\",targetColumnName,\"not in\", continuous.columns)\n",
    "            return False, False\n",
    "    \n",
    "    # Print success message if debugging\n",
    "    if debug == True:\n",
    "        print(\"splitTypes: types successfully split. Returning...\")\n",
    "    # Return our categorical and continuous\n",
    "    return categorical, continuous\n",
    "\n",
    "\n",
    "def getCategoricalDummies(df, excludeList = ['TARGET']):\n",
    "    if debug == True:\n",
    "        print(\"getCategoricalDummies: encoding categorical variables\")\n",
    "    # Copy data frame which will be returned\n",
    "    ret = df.copy()\n",
    "    # Shape should not be changing\n",
    "    prevShape = df.shape\n",
    "    # Determine columns that are not blacklisted\n",
    "    tempColumns = []\n",
    "    for i in df.columns:\n",
    "        if i not in excludeList:\n",
    "            tempColumns.append(i)\n",
    "    # Don't do anything if we've already encoded\n",
    "    if len(tempColumns) < 1:\n",
    "        return ret\n",
    "    # Iterate through desired columns, convert to binary, retain dimensionality\n",
    "    for i in tempColumns:\n",
    "        # This branch should probably never be executed\n",
    "        if i not in ret.columns: \n",
    "            continue\n",
    "        # One-hot-encode current column\n",
    "        dummies = pd.get_dummies(ret[i], drop_first = True)\n",
    "        # Do this for all categories\n",
    "        for j in dummies.columns:\n",
    "            # Give it name of \"<original_variable_name>_<category>\" and ignore floating point decimals\n",
    "            colName = i+\"_\"+str(j).split('.')[0]\n",
    "            # Replace old with new\n",
    "            ret[colName] = dummies[j]\n",
    "        ret.drop(i, axis = 1, inplace = True)\n",
    "    return ret\n",
    "\n",
    "def setDays(df, mappings):\n",
    "    # Create return object\n",
    "    ret = df.copy()\n",
    "    # Iterate through mappings and create new columns\n",
    "    for key, val in mappings.items():\n",
    "        # Ignore mappings that aren't in data frame or have been done already\n",
    "        if key not in ret.columns or val in ret.columns: continue\n",
    "        # Copy column as positive year value and append it to data frame\n",
    "        newCol = round(abs(df[key]) / (365))\n",
    "        ret.insert(len(ret.columns), val, newCol.values)\n",
    "        ret.drop(key, axis = 1, inplace = True)\n",
    "        # Break the code if the desired mapping has not been followed\n",
    "        try:\n",
    "            assert(val in ret.columns)\n",
    "            assert(key not in ret.columns)\n",
    "        except:\n",
    "            if debug == True:\n",
    "                print(\"setDays: Error: Failure to add/drop column to data frame: key: \",key,\"value:\",val)\n",
    "            return False\n",
    "    # Return our new data frame\n",
    "    return ret\n",
    "\n",
    "# Copies dataframe column, sets outlier values to limits and returns\n",
    "def windsorizeColumn(df):\n",
    "    newCol = df.copy()\n",
    "    q1=df.quantile(0.25)\n",
    "    q3=df.quantile(0.75)\n",
    "    iqr=q3-q1\n",
    "    for idx, val in enumerate(newCol):\n",
    "        if val < (q1 - 1.5 * iqr):\n",
    "            newCol[idx] = q1 - 1.5 * iqr\n",
    "        elif val > (q3 + 1.5 * iqr):\n",
    "            newCol[idx] = q3 + 1.5 * iqr\n",
    "    return newCol\n",
    "\n",
    "#\n",
    "# Description:\n",
    "# ------------\n",
    "# Copies data frame, removes columns in variablesToDrop list, \n",
    "# splits categorical and continuous types,verifies no duplicate entries are present in the data frame\n",
    "#\n",
    "# Deals with categorical variables as follows:\n",
    "# 1) Sets bad/useless categories to NaN and fills them with modal category entries for respective variables\n",
    "# 2) One-hot-encodes categorical variables\n",
    "# \n",
    "# Deals with continuous variables as follows:\n",
    "# 1) Converts days values to years\n",
    "#\n",
    "def cleanData(df, variablesToDrop = [], ordinalColumns = [], daysMapping = {}):\n",
    "    # Copy data frame\n",
    "    cleanData = df.copy()\n",
    "    # Break if copy behaves strangely for some reason\n",
    "    try:\n",
    "        assert(len(cleanData.columns) > 0 and len(cleanData.columns) == len(df.columns))\n",
    "    except:\n",
    "        if debug == True:\n",
    "            print(\"cleanData: Error: failure to copy dataframe parameter\")\n",
    "        return False\n",
    "    # Remove any variables we have pre-selected as useless\n",
    "    cleanData = dropVariables(variablesToDrop, cleanData)\n",
    "    # Break if variables are in clean data frame after attempting to drop\n",
    "    for i in variablesToDrop:\n",
    "        try:\n",
    "            assert(i not in cleanData.columns)\n",
    "        except:\n",
    "            if debug == True:\n",
    "                print(\"cleanData: Error: column for requested deletion\",i,\"remains in data frame\")\n",
    "            return False\n",
    "    # Show how many variables have been dropped so far, if desired\n",
    "    if debug == True:\n",
    "        print(\"cleanData:\",df.shape[1] - cleanData.shape[1], \"variables successfully dropped\")\n",
    "        # Breaks execution of code if there is a duplicate in the dataset which needs to be fixed\n",
    "    for i in cleanData.duplicated():\n",
    "        try:\n",
    "            assert(i == False)\n",
    "        except:\n",
    "            if debug == True:\n",
    "                print(\"cleanData: Error: duplicate value found: \",i)\n",
    "            return False\n",
    "    if debug == True:\n",
    "        print(\"cleanData: successfully verified no duplicate values present\")\n",
    "    # Split the categorical and continuous columns for separate cleaning\n",
    "    categorical, continuous = splitTypes(cleanData, ordinalColumns)\n",
    "    # Make sure splitting is successful\n",
    "    if not type(categorical) == pd.DataFrame or not type(continuous) == pd.DataFrame:\n",
    "        if debug == True:\n",
    "            print(\"cleanData: Error: bad return from splitting data. Categorical:\",categorical,\", Continuous:\",continuous)\n",
    "        return False\n",
    "    elif debug == True:\n",
    "        print(\"cleanData: successfullly split categorical and continuous columns\")\n",
    "    # Set Bad Categorical Values to NaN\n",
    "    categorical = setAllNaN(categorical)\n",
    "    if not type(categorical) == pd.DataFrame:\n",
    "        if debug == True:\n",
    "            print(\"cleanData: Error: failed to remove a bad entry from data frame\")\n",
    "        return False\n",
    "    elif debug == True:\n",
    "        print(\"cleanData: successfully set bad categorical entries to NaN\")\n",
    "    # Set nans to mode\n",
    "    categorical = categorical.fillna(categorical.mode().iloc[0])\n",
    "    # Break the code if the data frame has any null categorical entries\n",
    "    try:\n",
    "        assert(sum(categorical.isnull().sum()) == 0)\n",
    "    except:\n",
    "        if debug == True:\n",
    "            print(\"cleanData: Error: null value in data frame after setting entries to mode\")\n",
    "        return False\n",
    "    if debug == True:\n",
    "        print(\"cleanData: successfully set null categorical entries to mode\")\n",
    "    # One hot encode our categorical data\n",
    "    categorical = getCategoricalDummies(categorical)\n",
    "    if not type(categorical) == pd.DataFrame:\n",
    "        return False\n",
    "    elif debug == True:\n",
    "        print(\"cleanData: successfully encoded categorical variables\")\n",
    "    # Set up our days to years variables in a desired format\n",
    "    continuous = setDays(continuous, daysMapping)    \n",
    "    if not type(continuous) == pd.DataFrame:\n",
    "        return False\n",
    "    elif debug == True:\n",
    "        print(\"cleanData: successfully set days\")\n",
    "    # Fill continuous values with mean for now\n",
    "    continuous.fillna(continuous.mean())\n",
    "    # Create our return object\n",
    "    ret = continuous.copy()\n",
    "    for i in categorical.columns:\n",
    "        if i not in ret.columns:\n",
    "            ret = ret.join(categorical[i])\n",
    "    return ret\n",
    "    "
   ]
  },
  {
   "cell_type": "markdown",
   "id": "e2bc09d8",
   "metadata": {},
   "source": [
    "#### Declare Meaningless Continuous Variables\n",
    "These are the continuous variables which have been selected for removal after several iterations of supervised analysis."
   ]
  },
  {
   "cell_type": "code",
   "execution_count": 40,
   "id": "3659be45",
   "metadata": {},
   "outputs": [],
   "source": [
    "# Continuous columns we are interested in removing\n",
    "meaninglessContinuousVariables = ['NONLIVINGAPARTMENTS_AVG',\n",
    "                                  'NONLIVINGAPARTMENTS_MODE',\n",
    "                                  'NONLIVINGAPARTMENTS_MEDI',\n",
    "                                  'NONLIVINGAREA_AVG',\n",
    "                                  'NONLIVINGAREA_MODE',\n",
    "                                  'NONLIVINGAREA_MEDI',\n",
    "                                  'HOUR_APPR_PROCESS_START',\n",
    "                                  'YEARS_LAST_PHONE_CHANGE'] # Decided to remove in ASG4"
   ]
  },
  {
   "cell_type": "markdown",
   "id": "b6347864",
   "metadata": {},
   "source": [
    "#### Declaring Meaningless Categorical Variables\n",
    "These are the categorical variables which have been selected for removal after several iterations of supervised analysis."
   ]
  },
  {
   "cell_type": "code",
   "execution_count": 41,
   "id": "b214950e",
   "metadata": {},
   "outputs": [],
   "source": [
    "# Categorical columns we are interested in removing\n",
    "meaninglessCategoricalVariables = [\n",
    "    'EMERGENCYSTATE_MODE',\n",
    "    'FLAG_DOCUMENT_2',\n",
    "    'FLAG_DOCUMENT_3',\n",
    "    'FLAG_DOCUMENT_4',\n",
    "    'FLAG_DOCUMENT_5',\n",
    "    'FLAG_DOCUMENT_6',\n",
    "    'FLAG_DOCUMENT_7',\n",
    "    'FLAG_DOCUMENT_8',\n",
    "    'FLAG_DOCUMENT_9',\n",
    "    'FLAG_DOCUMENT_10',\n",
    "    'FLAG_DOCUMENT_11',\n",
    "    'FLAG_DOCUMENT_12',\n",
    "    'FLAG_DOCUMENT_13',\n",
    "    'FLAG_DOCUMENT_14',\n",
    "    'FLAG_DOCUMENT_15',\n",
    "    'FLAG_DOCUMENT_16',\n",
    "    'FLAG_DOCUMENT_17',\n",
    "    'FLAG_DOCUMENT_18',\n",
    "    'FLAG_DOCUMENT_19',\n",
    "    'FLAG_DOCUMENT_20',\n",
    "    'FLAG_DOCUMENT_21',\n",
    "    'FLAG_EMAIL',\n",
    "    'FLAG_PHONE',\n",
    "    'FLAG_CONT_MOBILE',\n",
    "    'FLAG_WORK_PHONE',\n",
    "    'HOUSETYPE_MODE',\n",
    "    'WEEKDAY_APPR_PROCESS_START',\n",
    "    'FLAG_MOBIL',\n",
    "    'ORGANIZATION_TYPE'            # Decided to remove in ASG4\n",
    "]"
   ]
  },
  {
   "cell_type": "markdown",
   "id": "88d6d845",
   "metadata": {},
   "source": [
    "#### Setting Map for days to years variables\n",
    "This is a map which will be a parameter of the cleanData function. The map's keys are variables present in the input data frame which will be converted to their respective values as positive values divided by 365. This is done for analytics readability and data abstraction."
   ]
  },
  {
   "cell_type": "code",
   "execution_count": 42,
   "id": "156389b3",
   "metadata": {},
   "outputs": [],
   "source": [
    "# Declare Mapping list of days variables to look at and new names to give them\n",
    "daysColumnsMapping = {'DAYS_BIRTH':             'YEARS_BIRTH',\n",
    "                      'DAYS_EMPLOYED':          'YEARS_EMPLOYED',\n",
    "                      'DAYS_REGISTRATION':      'YEARS_REGISTRATION',\n",
    "                      'DAYS_ID_PUBLISH':        'YEARS_ID_PUBLISH'}"
   ]
  },
  {
   "cell_type": "markdown",
   "id": "82e7ea1a",
   "metadata": {},
   "source": [
    "#### Set Desired Columns"
   ]
  },
  {
   "cell_type": "code",
   "execution_count": 43,
   "id": "5b5cc9f1",
   "metadata": {},
   "outputs": [],
   "source": [
    "desiredColList = [\"TARGET\",\"OBS_30_CNT_SOCIAL_CIRCLE\",\"DEF_30_CNT_SOCIAL_CIRCLE\",\"OBS_60_CNT_SOCIAL_CIRCLE\",\"DEF_60_CNT_SOCIAL_CIRCLE\",\"EXT_SOURCE_2\",\"AMT_GOODS_PRICE\",\"DAYS_LAST_PHONE_CHANGE\",\"DAYS_BIRTH\",\"DAYS_EMPLOYED\",\"DAYS_REGISTRATION\",\"AMT_ANNUITY\",\"AMT_CREDIT\",\"AMT_INCOME_TOTAL\",\"REGION_POPULATION_RELATIVE\",\"CNT_CHILDREN\",\"CNT_FAM_MEMBERS\",\"FLAG_MOBIL\",\"FLAG_EMP_PHONE\",\"FLAG_WORK_PHONE\",\"FLAG_PHONE\",\"CODE_GENDER\",\"FLAG_OWN_CAR\",\"FLAG_OWN_REALTY\"]\n",
    "desiredColList = columnsInDataFrame(desiredColList, data)\n",
    "\n",
    "dataColsRemoved = data[desiredColList]"
   ]
  },
  {
   "cell_type": "markdown",
   "id": "d19b0482",
   "metadata": {},
   "source": [
    "#### Perform Data Cleaning Call"
   ]
  },
  {
   "cell_type": "code",
   "execution_count": 44,
   "id": "030aec19",
   "metadata": {},
   "outputs": [
    {
     "name": "stdout",
     "output_type": "stream",
     "text": [
      "Successfully dropped 0 meaningless variables\n",
      "cleanData: 3 variables successfully dropped\n",
      "cleanData: successfully verified no duplicate values present\n",
      "splitTypes: types successfully split. Returning...\n",
      "cleanData: successfullly split categorical and continuous columns\n",
      "4 entries deleted for CODE_GENDER\n",
      "cleanData: successfully set bad categorical entries to NaN\n",
      "cleanData: successfully set null categorical entries to mode\n",
      "getCategoricalDummies: encoding categorical variables\n",
      "cleanData: successfully encoded categorical variables\n",
      "cleanData: successfully set days\n"
     ]
    }
   ],
   "source": [
    "# Clean the data\n",
    "data2 = cleanData(dataColsRemoved,\n",
    "                  meaninglessContinuousVariables + meaninglessCategoricalVariables,\n",
    "                  [],\n",
    "                  daysColumnsMapping)"
   ]
  },
  {
   "cell_type": "markdown",
   "id": "0ad7cfa4",
   "metadata": {},
   "source": [
    "### Exploring Cleaned Data"
   ]
  },
  {
   "cell_type": "markdown",
   "id": "f5880e59",
   "metadata": {},
   "source": [
    "#### Describing Clean Data Columns"
   ]
  },
  {
   "cell_type": "code",
   "execution_count": 45,
   "id": "0645403a",
   "metadata": {},
   "outputs": [
    {
     "name": "stdout",
     "output_type": "stream",
     "text": [
      "count    306490.000000\n",
      "mean          1.422245\n",
      "std           2.400989\n",
      "min           0.000000\n",
      "25%           0.000000\n",
      "50%           0.000000\n",
      "75%           2.000000\n",
      "max         348.000000\n",
      "Name: OBS_30_CNT_SOCIAL_CIRCLE, dtype: float64\n",
      "---------------------------------------------------------------------------------------------------------\n",
      "count    306490.000000\n",
      "mean          0.143421\n",
      "std           0.446698\n",
      "min           0.000000\n",
      "25%           0.000000\n",
      "50%           0.000000\n",
      "75%           0.000000\n",
      "max          34.000000\n",
      "Name: DEF_30_CNT_SOCIAL_CIRCLE, dtype: float64\n",
      "---------------------------------------------------------------------------------------------------------\n",
      "count    306490.000000\n",
      "mean          1.405292\n",
      "std           2.379803\n",
      "min           0.000000\n",
      "25%           0.000000\n",
      "50%           0.000000\n",
      "75%           2.000000\n",
      "max         344.000000\n",
      "Name: OBS_60_CNT_SOCIAL_CIRCLE, dtype: float64\n",
      "---------------------------------------------------------------------------------------------------------\n",
      "count    306490.000000\n",
      "mean          0.100049\n",
      "std           0.362291\n",
      "min           0.000000\n",
      "25%           0.000000\n",
      "50%           0.000000\n",
      "75%           0.000000\n",
      "max          24.000000\n",
      "Name: DEF_60_CNT_SOCIAL_CIRCLE, dtype: float64\n",
      "---------------------------------------------------------------------------------------------------------\n",
      "count    3.068510e+05\n",
      "mean     5.143927e-01\n",
      "std      1.910602e-01\n",
      "min      8.173617e-08\n",
      "25%      3.924574e-01\n",
      "50%      5.659614e-01\n",
      "75%      6.636171e-01\n",
      "max      8.549997e-01\n",
      "Name: EXT_SOURCE_2, dtype: float64\n",
      "---------------------------------------------------------------------------------------------------------\n",
      "count    3.072330e+05\n",
      "mean     5.383962e+05\n",
      "std      3.694465e+05\n",
      "min      4.050000e+04\n",
      "25%      2.385000e+05\n",
      "50%      4.500000e+05\n",
      "75%      6.795000e+05\n",
      "max      4.050000e+06\n",
      "Name: AMT_GOODS_PRICE, dtype: float64\n",
      "---------------------------------------------------------------------------------------------------------\n",
      "count    307510.000000\n",
      "mean       -962.858788\n",
      "std         826.808487\n",
      "min       -4292.000000\n",
      "25%       -1570.000000\n",
      "50%        -757.000000\n",
      "75%        -274.000000\n",
      "max           0.000000\n",
      "Name: DAYS_LAST_PHONE_CHANGE, dtype: float64\n",
      "---------------------------------------------------------------------------------------------------------\n",
      "count    307499.000000\n",
      "mean      27108.573909\n",
      "std       14493.737315\n",
      "min        1615.500000\n",
      "25%       16524.000000\n",
      "50%       24903.000000\n",
      "75%       34596.000000\n",
      "max      258025.500000\n",
      "Name: AMT_ANNUITY, dtype: float64\n",
      "---------------------------------------------------------------------------------------------------------\n",
      "count    3.075110e+05\n",
      "mean     5.990260e+05\n",
      "std      4.024908e+05\n",
      "min      4.500000e+04\n",
      "25%      2.700000e+05\n",
      "50%      5.135310e+05\n",
      "75%      8.086500e+05\n",
      "max      4.050000e+06\n",
      "Name: AMT_CREDIT, dtype: float64\n",
      "---------------------------------------------------------------------------------------------------------\n",
      "count    3.075110e+05\n",
      "mean     1.687979e+05\n",
      "std      2.371231e+05\n",
      "min      2.565000e+04\n",
      "25%      1.125000e+05\n",
      "50%      1.471500e+05\n",
      "75%      2.025000e+05\n",
      "max      1.170000e+08\n",
      "Name: AMT_INCOME_TOTAL, dtype: float64\n",
      "---------------------------------------------------------------------------------------------------------\n",
      "count    307511.000000\n",
      "mean          0.020868\n",
      "std           0.013831\n",
      "min           0.000290\n",
      "25%           0.010006\n",
      "50%           0.018850\n",
      "75%           0.028663\n",
      "max           0.072508\n",
      "Name: REGION_POPULATION_RELATIVE, dtype: float64\n",
      "---------------------------------------------------------------------------------------------------------\n",
      "count    307511.000000\n",
      "mean          0.417052\n",
      "std           0.722121\n",
      "min           0.000000\n",
      "25%           0.000000\n",
      "50%           0.000000\n",
      "75%           1.000000\n",
      "max          19.000000\n",
      "Name: CNT_CHILDREN, dtype: float64\n",
      "---------------------------------------------------------------------------------------------------------\n",
      "count    307509.000000\n",
      "mean          2.152665\n",
      "std           0.910682\n",
      "min           1.000000\n",
      "25%           2.000000\n",
      "50%           2.000000\n",
      "75%           3.000000\n",
      "max          20.000000\n",
      "Name: CNT_FAM_MEMBERS, dtype: float64\n",
      "---------------------------------------------------------------------------------------------------------\n",
      "count    307511.000000\n",
      "mean          0.819889\n",
      "std           0.384280\n",
      "min           0.000000\n",
      "25%           1.000000\n",
      "50%           1.000000\n",
      "75%           1.000000\n",
      "max           1.000000\n",
      "Name: FLAG_EMP_PHONE, dtype: float64\n",
      "---------------------------------------------------------------------------------------------------------\n",
      "count    307511.000000\n",
      "mean          0.080729\n",
      "std           0.272419\n",
      "min           0.000000\n",
      "25%           0.000000\n",
      "50%           0.000000\n",
      "75%           0.000000\n",
      "max           1.000000\n",
      "Name: TARGET, dtype: float64\n",
      "---------------------------------------------------------------------------------------------------------\n",
      "count    307511.000000\n",
      "mean         43.938646\n",
      "std          11.964047\n",
      "min          21.000000\n",
      "25%          34.000000\n",
      "50%          43.000000\n",
      "75%          54.000000\n",
      "max          69.000000\n",
      "Name: YEARS_BIRTH, dtype: float64\n",
      "---------------------------------------------------------------------------------------------------------\n",
      "count    307511.000000\n",
      "mean        185.608021\n",
      "std         382.165887\n",
      "min           0.000000\n",
      "25%           3.000000\n",
      "50%           6.000000\n",
      "75%          16.000000\n",
      "max        1001.000000\n",
      "Name: YEARS_EMPLOYED, dtype: float64\n",
      "---------------------------------------------------------------------------------------------------------\n",
      "count    307511.000000\n",
      "mean         13.659440\n",
      "std           9.659369\n",
      "min           0.000000\n",
      "25%           6.000000\n",
      "50%          12.000000\n",
      "75%          20.000000\n",
      "max          68.000000\n",
      "Name: YEARS_REGISTRATION, dtype: float64\n",
      "---------------------------------------------------------------------------------------------------------\n",
      "count    307511.000000\n",
      "mean          0.341643\n",
      "std           0.474261\n",
      "min           0.000000\n",
      "25%           0.000000\n",
      "50%           0.000000\n",
      "75%           1.000000\n",
      "max           1.000000\n",
      "Name: CODE_GENDER_M, dtype: float64\n",
      "---------------------------------------------------------------------------------------------------------\n",
      "count    307511.000000\n",
      "mean          0.340108\n",
      "std           0.473746\n",
      "min           0.000000\n",
      "25%           0.000000\n",
      "50%           0.000000\n",
      "75%           1.000000\n",
      "max           1.000000\n",
      "Name: FLAG_OWN_CAR_Y, dtype: float64\n",
      "---------------------------------------------------------------------------------------------------------\n",
      "count    307511.000000\n",
      "mean          0.693673\n",
      "std           0.460968\n",
      "min           0.000000\n",
      "25%           0.000000\n",
      "50%           1.000000\n",
      "75%           1.000000\n",
      "max           1.000000\n",
      "Name: FLAG_OWN_REALTY_Y, dtype: float64\n",
      "---------------------------------------------------------------------------------------------------------\n",
      "Data Frame now has 21 variables\n"
     ]
    }
   ],
   "source": [
    "if debug == True:\n",
    "    # Describe each of the columns in the clean data frame\n",
    "    for i in data2.columns:\n",
    "        print(data2[i].describe())\n",
    "        print(lineString)\n",
    "    # Describe number of variables as well\n",
    "    print(\"Data Frame now has\",data2.shape[1],\"variables\")"
   ]
  },
  {
   "cell_type": "markdown",
   "id": "36363054",
   "metadata": {},
   "source": [
    "#### Showing Heatmap of Cleaned Data\n",
    "From the heatmap printed below we can see more strongly-pronounced correlations between various variables, along with some red spots denoted from categories that have been encoded. We can more easily visualize certain features in the data frame."
   ]
  },
  {
   "cell_type": "code",
   "execution_count": 46,
   "id": "14fb31f4",
   "metadata": {
    "scrolled": true
   },
   "outputs": [
    {
     "data": {
      "image/png": "[encoded data removed]",
      "text/plain": [
       "<Figure size 1440x1440 with 2 Axes>"
      ]
     },
     "metadata": {
      "needs_background": "light"
     },
     "output_type": "display_data"
    }
   ],
   "source": [
    "showHeatmap(data2)"
   ]
  },
  {
   "cell_type": "markdown",
   "id": "3643e460",
   "metadata": {},
   "source": [
    "#### Selecting Numeric Types from Training Data Frame"
   ]
  },
  {
   "cell_type": "code",
   "execution_count": 47,
   "id": "a02071ab",
   "metadata": {},
   "outputs": [
    {
     "name": "stdout",
     "output_type": "stream",
     "text": [
      "Extracting numeric types from training data complete\n"
     ]
    }
   ],
   "source": [
    "acceptableNumericTypes = [float, int]\n",
    "\n",
    "# Get numeric data frame. Should already be numeric after cleaning\n",
    "data2Numeric = data2.select_dtypes(include = ['float', 'int', 'uint8'])\n",
    "# Verify we are working exclusively with numeric types\n",
    "for i in data2Numeric:\n",
    "    try:\n",
    "        assert(data2Numeric[i].dtype in acceptableNumericTypes or data2Numeric[i].dtype == 'uint8')\n",
    "    except:\n",
    "        if debug == True:\n",
    "            print(\"Error: non-numeric type in numeric data frame for column:\",i)\n",
    "\n",
    "if debug == True:\n",
    "    print(\"Extracting numeric types from training data complete\")"
   ]
  },
  {
   "cell_type": "markdown",
   "id": "e44c5120",
   "metadata": {},
   "source": [
    "#### Verifying No Other Types exist"
   ]
  },
  {
   "cell_type": "code",
   "execution_count": 48,
   "id": "389499f9",
   "metadata": {},
   "outputs": [
    {
     "name": "stdout",
     "output_type": "stream",
     "text": [
      "No non-numeric columns exist in the training data frame\n"
     ]
    }
   ],
   "source": [
    "assert(len(data2.drop(data2Numeric.columns, axis = 1).columns) == 0)\n",
    "\n",
    "if debug == True:\n",
    "    print(\"No non-numeric columns exist in the training data frame\")"
   ]
  },
  {
   "cell_type": "markdown",
   "id": "cc87a418",
   "metadata": {},
   "source": [
    "### Creating GBT\n",
    "Here we use xgboost, which is responsible for about 80% of the top kaggle submissions, as our GBT model."
   ]
  },
  {
   "cell_type": "code",
   "execution_count": 49,
   "id": "9c75fb85",
   "metadata": {},
   "outputs": [
    {
     "name": "stdout",
     "output_type": "stream",
     "text": [
      "Successfully created xgboost GBT\n"
     ]
    }
   ],
   "source": [
    "import xgboost as xgb\n",
    "\n",
    "feature = data2.drop([targetColumnName], axis = 1).to_numpy()\n",
    "label = data2[targetColumnName].to_numpy()\n",
    "X_train, X_test, y_train, y_test = train_test_split(feature, label, test_size=0.33, random_state=42)\n",
    "\n",
    "dtrain = xgb.DMatrix(data = X_train, label = y_train)\n",
    "dtest = xgb.DMatrix(data = X_test, label = y_test)\n",
    "\n",
    "if debug == True:\n",
    "    print(\"Successfully created xgboost GBT\")"
   ]
  },
  {
   "cell_type": "code",
   "execution_count": 50,
   "id": "2da5c2c5",
   "metadata": {},
   "outputs": [
    {
     "name": "stdout",
     "output_type": "stream",
     "text": [
      "Model successfully boosted\n"
     ]
    }
   ],
   "source": [
    "# Create parameters\n",
    "param = {'max_depth':4, 'eta':1, 'objective':'binary:logistic'}\n",
    "# Train Model\n",
    "model = xgb.train(param, dtrain, 2)\n",
    "\n",
    "if debug == True:\n",
    "    print(\"Model successfully boosted\")"
   ]
  },
  {
   "cell_type": "markdown",
   "id": "4d2d3afa",
   "metadata": {},
   "source": [
    "#### Showing Baseline Prediction Error"
   ]
  },
  {
   "cell_type": "code",
   "execution_count": 51,
   "id": "dc676d30",
   "metadata": {},
   "outputs": [
    {
     "name": "stdout",
     "output_type": "stream",
     "text": [
      "Predictions: \n",
      "---------------------------------------------------------------------------------------------------------\n",
      "[0.10657143 0.11989798 0.10657143 ... 0.07793677 0.19636573 0.05676287]\n",
      "\n"
     ]
    }
   ],
   "source": [
    "from sklearn.metrics import confusion_matrix,accuracy_score\n",
    "import statistics\n",
    "\n",
    "# Make Prediction\n",
    "preds = model.predict(dtest)\n",
    "\n",
    "if debug == True:\n",
    "    print(\"Predictions: \")\n",
    "    print(lineString)\n",
    "    print(preds)\n",
    "    print()"
   ]
  },
  {
   "cell_type": "markdown",
   "id": "38121462",
   "metadata": {},
   "source": [
    "## Bureau\n",
    "This paper on HMMs for financial applications https://run.unl.pt/bitstream/10362/63689/1/TEGI0435.pdf details the structuring of a HMM for credit default risk. \n",
    "\n",
    "We want to create a HMM that is able to utilize time-based data and parse it into 4 states:\n",
    "1) Performing: Current or less than 30 days past due\n",
    "\n",
    "2) Non-performing: 30 to 270+ days past due\n",
    "\n",
    "3) Modified: modified loan\n",
    "\n",
    "4) Default: defaulted loan\n",
    "\n",
    "I believe state 3 on modifications of the loan may be taken out later.The best data to gather for these states would be the bureau data. The bureau data has values for days credit, days credit overdue, max overdue credit, current loan values, and other useful data that would be time-valued for input to a HMM"
   ]
  },
  {
   "cell_type": "markdown",
   "id": "b08cf153",
   "metadata": {},
   "source": [
    "### Importing Bureau"
   ]
  },
  {
   "cell_type": "code",
   "execution_count": 52,
   "id": "e174dc1a",
   "metadata": {},
   "outputs": [
    {
     "name": "stdout",
     "output_type": "stream",
     "text": [
      "readData...completed\n"
     ]
    }
   ],
   "source": [
    "# Read the data, assigning independant and dependant variables\n",
    "dataBureau, x, y = readData('./dataset/bureau_balance.csv', targetColumnName, debug)"
   ]
  },
  {
   "cell_type": "markdown",
   "id": "5920fea7",
   "metadata": {},
   "source": [
    "### Bureau Exploratory Analysis"
   ]
  },
  {
   "cell_type": "markdown",
   "id": "e1207d11",
   "metadata": {},
   "source": [
    "#### Number of Unique IDs in the Previous Installation Payments Data"
   ]
  },
  {
   "cell_type": "code",
   "execution_count": 53,
   "id": "d9e92e31",
   "metadata": {},
   "outputs": [
    {
     "data": {
      "text/plain": [
       "817395"
      ]
     },
     "execution_count": 53,
     "metadata": {},
     "output_type": "execute_result"
    }
   ],
   "source": [
    "dataBureau.SK_ID_BUREAU.nunique()"
   ]
  },
  {
   "cell_type": "markdown",
   "id": "40fc2503",
   "metadata": {},
   "source": [
    "##### Getting Shape of Bureau Data"
   ]
  },
  {
   "cell_type": "code",
   "execution_count": 54,
   "id": "3a125052",
   "metadata": {},
   "outputs": [
    {
     "data": {
      "text/plain": [
       "(27299925, 3)"
      ]
     },
     "execution_count": 54,
     "metadata": {},
     "output_type": "execute_result"
    }
   ],
   "source": [
    "dataBureau.shape"
   ]
  },
  {
   "cell_type": "markdown",
   "id": "2ef5b256",
   "metadata": {},
   "source": [
    "##### Seeing Head of Bureau"
   ]
  },
  {
   "cell_type": "code",
   "execution_count": 55,
   "id": "7d757754",
   "metadata": {},
   "outputs": [
    {
     "data": {
      "text/html": [
       "<div>\n",
       "<style scoped>\n",
       "    .dataframe tbody tr th:only-of-type {\n",
       "        vertical-align: middle;\n",
       "    }\n",
       "\n",
       "    .dataframe tbody tr th {\n",
       "        vertical-align: top;\n",
       "    }\n",
       "\n",
       "    .dataframe thead th {\n",
       "        text-align: right;\n",
       "    }\n",
       "</style>\n",
       "<table border=\"1\" class=\"dataframe\">\n",
       "  <thead>\n",
       "    <tr style=\"text-align: right;\">\n",
       "      <th></th>\n",
       "      <th>SK_ID_BUREAU</th>\n",
       "      <th>MONTHS_BALANCE</th>\n",
       "      <th>STATUS</th>\n",
       "    </tr>\n",
       "  </thead>\n",
       "  <tbody>\n",
       "    <tr>\n",
       "      <th>0</th>\n",
       "      <td>5715448</td>\n",
       "      <td>0</td>\n",
       "      <td>C</td>\n",
       "    </tr>\n",
       "    <tr>\n",
       "      <th>1</th>\n",
       "      <td>5715448</td>\n",
       "      <td>-1</td>\n",
       "      <td>C</td>\n",
       "    </tr>\n",
       "    <tr>\n",
       "      <th>2</th>\n",
       "      <td>5715448</td>\n",
       "      <td>-2</td>\n",
       "      <td>C</td>\n",
       "    </tr>\n",
       "    <tr>\n",
       "      <th>3</th>\n",
       "      <td>5715448</td>\n",
       "      <td>-3</td>\n",
       "      <td>C</td>\n",
       "    </tr>\n",
       "    <tr>\n",
       "      <th>4</th>\n",
       "      <td>5715448</td>\n",
       "      <td>-4</td>\n",
       "      <td>C</td>\n",
       "    </tr>\n",
       "    <tr>\n",
       "      <th>5</th>\n",
       "      <td>5715448</td>\n",
       "      <td>-5</td>\n",
       "      <td>C</td>\n",
       "    </tr>\n",
       "    <tr>\n",
       "      <th>6</th>\n",
       "      <td>5715448</td>\n",
       "      <td>-6</td>\n",
       "      <td>C</td>\n",
       "    </tr>\n",
       "    <tr>\n",
       "      <th>7</th>\n",
       "      <td>5715448</td>\n",
       "      <td>-7</td>\n",
       "      <td>C</td>\n",
       "    </tr>\n",
       "    <tr>\n",
       "      <th>8</th>\n",
       "      <td>5715448</td>\n",
       "      <td>-8</td>\n",
       "      <td>C</td>\n",
       "    </tr>\n",
       "    <tr>\n",
       "      <th>9</th>\n",
       "      <td>5715448</td>\n",
       "      <td>-9</td>\n",
       "      <td>0</td>\n",
       "    </tr>\n",
       "    <tr>\n",
       "      <th>10</th>\n",
       "      <td>5715448</td>\n",
       "      <td>-10</td>\n",
       "      <td>0</td>\n",
       "    </tr>\n",
       "    <tr>\n",
       "      <th>11</th>\n",
       "      <td>5715448</td>\n",
       "      <td>-11</td>\n",
       "      <td>X</td>\n",
       "    </tr>\n",
       "    <tr>\n",
       "      <th>12</th>\n",
       "      <td>5715448</td>\n",
       "      <td>-12</td>\n",
       "      <td>X</td>\n",
       "    </tr>\n",
       "    <tr>\n",
       "      <th>13</th>\n",
       "      <td>5715448</td>\n",
       "      <td>-13</td>\n",
       "      <td>X</td>\n",
       "    </tr>\n",
       "    <tr>\n",
       "      <th>14</th>\n",
       "      <td>5715448</td>\n",
       "      <td>-14</td>\n",
       "      <td>0</td>\n",
       "    </tr>\n",
       "    <tr>\n",
       "      <th>15</th>\n",
       "      <td>5715448</td>\n",
       "      <td>-15</td>\n",
       "      <td>0</td>\n",
       "    </tr>\n",
       "    <tr>\n",
       "      <th>16</th>\n",
       "      <td>5715448</td>\n",
       "      <td>-16</td>\n",
       "      <td>0</td>\n",
       "    </tr>\n",
       "    <tr>\n",
       "      <th>17</th>\n",
       "      <td>5715448</td>\n",
       "      <td>-17</td>\n",
       "      <td>0</td>\n",
       "    </tr>\n",
       "    <tr>\n",
       "      <th>18</th>\n",
       "      <td>5715448</td>\n",
       "      <td>-18</td>\n",
       "      <td>0</td>\n",
       "    </tr>\n",
       "    <tr>\n",
       "      <th>19</th>\n",
       "      <td>5715448</td>\n",
       "      <td>-19</td>\n",
       "      <td>0</td>\n",
       "    </tr>\n",
       "  </tbody>\n",
       "</table>\n",
       "</div>"
      ],
      "text/plain": [
       "    SK_ID_BUREAU  MONTHS_BALANCE STATUS\n",
       "0        5715448               0      C\n",
       "1        5715448              -1      C\n",
       "2        5715448              -2      C\n",
       "3        5715448              -3      C\n",
       "4        5715448              -4      C\n",
       "5        5715448              -5      C\n",
       "6        5715448              -6      C\n",
       "7        5715448              -7      C\n",
       "8        5715448              -8      C\n",
       "9        5715448              -9      0\n",
       "10       5715448             -10      0\n",
       "11       5715448             -11      X\n",
       "12       5715448             -12      X\n",
       "13       5715448             -13      X\n",
       "14       5715448             -14      0\n",
       "15       5715448             -15      0\n",
       "16       5715448             -16      0\n",
       "17       5715448             -17      0\n",
       "18       5715448             -18      0\n",
       "19       5715448             -19      0"
      ]
     },
     "execution_count": 55,
     "metadata": {},
     "output_type": "execute_result"
    }
   ],
   "source": [
    "dataBureau.head(20)"
   ]
  },
  {
   "cell_type": "markdown",
   "id": "75e7dfd2",
   "metadata": {},
   "source": [
    "##### Bureau Payment Possible Markov States\n",
    "Here we have 8 different categories in the status of a loan payment:"
   ]
  },
  {
   "cell_type": "code",
   "execution_count": 56,
   "id": "62686bce",
   "metadata": {},
   "outputs": [
    {
     "data": {
      "text/plain": [
       "8"
      ]
     },
     "execution_count": 56,
     "metadata": {},
     "output_type": "execute_result"
    }
   ],
   "source": [
    "len(dataBureau['STATUS'].unique())"
   ]
  },
  {
   "cell_type": "markdown",
   "id": "8a625cc8",
   "metadata": {},
   "source": [
    "##### Category Meaning\n",
    "C means closed\n",
    "\n",
    "X means unknown\n",
    "\n",
    "0 means no DPD\n",
    "\n",
    "1 means maximul did during month between 1-30\n",
    "\n",
    "2 means DPD (days past due) 31-60\n",
    "\n",
    "5 means DPD 120+ or sold or unwritten off"
   ]
  },
  {
   "cell_type": "code",
   "execution_count": 57,
   "id": "5fb0ea07",
   "metadata": {},
   "outputs": [
    {
     "data": {
      "text/plain": [
       "array(['C', '0', 'X', '1', '2', '3', '5', '4'], dtype=object)"
      ]
     },
     "execution_count": 57,
     "metadata": {},
     "output_type": "execute_result"
    }
   ],
   "source": [
    "dataBureau['STATUS'].unique()"
   ]
  },
  {
   "cell_type": "markdown",
   "id": "cb593b20",
   "metadata": {},
   "source": [
    "We note that the 8 states above translate fairly well into the proposed model of performing, non-performing, modified, default. \n",
    "\n",
    "C would mean that we look at the previous state the close out a markov chain\n",
    "\n",
    "X would mean we assume no state transition occurred (would be best to look at bureau_payments data, but surely not enough time)\n",
    "\n",
    "0 means performing\n",
    "\n",
    "1 means non-performing\n",
    "\n",
    "2 means non-performing\n",
    "\n",
    "assume 3 and 4 also mean non-performing. No description given of them in home columns description so that's fun.\n",
    "5 means probably default.\n"
   ]
  },
  {
   "cell_type": "markdown",
   "id": "1992acef",
   "metadata": {},
   "source": [
    "#### Distribution of States"
   ]
  },
  {
   "cell_type": "code",
   "execution_count": 58,
   "id": "a053d943",
   "metadata": {},
   "outputs": [
    {
     "data": {
      "text/plain": [
       "C    13646993\n",
       "0     7499507\n",
       "X     5810482\n",
       "1      242347\n",
       "5       62406\n",
       "2       23419\n",
       "3        8924\n",
       "4        5847\n",
       "Name: STATUS, dtype: int64"
      ]
     },
     "execution_count": 58,
     "metadata": {},
     "output_type": "execute_result"
    }
   ],
   "source": [
    "dataBureau['STATUS'].value_counts()"
   ]
  },
  {
   "cell_type": "markdown",
   "id": "f2a4227b",
   "metadata": {},
   "source": [
    "### Viewing Bureau as Time-Series for Markov Chain"
   ]
  },
  {
   "cell_type": "markdown",
   "id": "ba11d881",
   "metadata": {},
   "source": [
    "##### Exemplifying Transitions for Markov Chain"
   ]
  },
  {
   "cell_type": "code",
   "execution_count": 59,
   "id": "892a815f",
   "metadata": {},
   "outputs": [],
   "source": [
    "# Function that prints out the different status states for a bureau ID to illustrate example Markov Chains\n",
    "def exemplifyTransition(idVal, df):\n",
    "    if debug == False:\n",
    "        return\n",
    "    incr = 0\n",
    "    tempArr = []\n",
    "    for i in df['SK_ID_BUREAU']:\n",
    "        if i == idVal:\n",
    "            tempArr.append(df['STATUS'][incr])\n",
    "        incr = incr + 1\n",
    "    print(\"ID:\",idVal)\n",
    "    for i in tempArr:\n",
    "        print(i, end = ' -> ')\n",
    "    print(\"\\n\", lineString)"
   ]
  },
  {
   "cell_type": "code",
   "execution_count": 60,
   "id": "3ebce7d9",
   "metadata": {},
   "outputs": [
    {
     "name": "stdout",
     "output_type": "stream",
     "text": [
      "There are:  817395 unique IDs in data bureau\n",
      "Printing first 4 variable transitions to exemplify HMM parameters\n",
      "ID: 5645521\n",
      "C -> C -> C -> C -> C -> C -> C -> C -> C -> C -> C -> C -> C -> C -> C -> C -> C -> C -> C -> C -> C -> C -> C -> C -> C -> C -> C -> C -> C -> C -> C -> C -> C -> C -> C -> C -> C -> C -> C -> C -> C -> C -> C -> C -> C -> C -> C -> C -> C -> C -> C -> C -> C -> C -> C -> C -> C -> C -> C -> C -> C -> C -> C -> C -> C -> C -> C -> C -> C -> C -> C -> C -> C -> C -> C -> C -> C -> C -> C -> C -> C -> C -> C -> C -> C -> C -> C -> C -> C -> C -> C -> C -> C -> C -> C -> C -> C -> \n",
      " ---------------------------------------------------------------------------------------------------------\n",
      "ID: 6733619\n",
      "C -> C -> C -> C -> C -> C -> C -> C -> C -> C -> C -> C -> C -> C -> C -> C -> C -> C -> C -> C -> C -> C -> C -> C -> C -> C -> C -> C -> C -> C -> C -> C -> C -> C -> C -> C -> C -> C -> C -> C -> C -> C -> C -> C -> C -> C -> C -> C -> C -> C -> C -> C -> C -> C -> C -> C -> C -> C -> C -> C -> C -> C -> C -> C -> C -> C -> C -> C -> C -> C -> C -> C -> C -> C -> C -> C -> C -> C -> C -> C -> C -> C -> C -> C -> C -> C -> C -> C -> C -> C -> C -> C -> C -> C -> C -> C -> C -> \n",
      " ---------------------------------------------------------------------------------------------------------\n",
      "ID: 6176606\n",
      "C -> C -> C -> C -> C -> C -> C -> C -> C -> C -> C -> C -> C -> C -> C -> C -> C -> C -> C -> C -> C -> C -> C -> C -> C -> C -> C -> C -> C -> C -> C -> C -> C -> C -> C -> C -> C -> C -> C -> C -> C -> C -> C -> C -> C -> C -> C -> C -> C -> C -> C -> C -> C -> C -> C -> C -> C -> C -> C -> C -> C -> C -> C -> C -> C -> C -> C -> C -> C -> C -> C -> C -> C -> C -> C -> C -> C -> C -> C -> C -> C -> C -> C -> C -> C -> C -> C -> C -> C -> C -> C -> C -> X -> 0 -> 0 -> 0 -> 0 -> \n",
      " ---------------------------------------------------------------------------------------------------------\n",
      "ID: 6321834\n",
      "C -> C -> C -> C -> C -> C -> C -> C -> C -> C -> C -> C -> C -> C -> C -> C -> C -> C -> C -> C -> C -> C -> C -> C -> C -> C -> C -> C -> C -> C -> C -> C -> C -> C -> C -> C -> C -> C -> C -> C -> C -> C -> C -> C -> C -> C -> C -> C -> C -> C -> C -> C -> C -> C -> C -> C -> C -> C -> C -> C -> C -> C -> C -> C -> C -> C -> C -> C -> C -> C -> C -> C -> C -> C -> C -> C -> C -> C -> C -> C -> C -> C -> 5 -> 4 -> 3 -> 2 -> 1 -> 1 -> 1 -> 0 -> 0 -> 0 -> 0 -> 0 -> 0 -> 2 -> 1 -> \n",
      " ---------------------------------------------------------------------------------------------------------\n"
     ]
    }
   ],
   "source": [
    "# Amount of IDs we wish to see the markovian chains for - usually set to small number to save runtime\n",
    "numIds = 4\n",
    "\n",
    "# Determines unique bureau IDs and iterates through desired number, exemplifying Markovian chains\n",
    "uniqueIds = dataBureau['SK_ID_BUREAU'].value_counts()\n",
    "if debug == True:\n",
    "    print(\"There are: \", len(uniqueIds), \"unique IDs in data bureau\")\n",
    "    print(\"Printing first\",numIds,\"variable transitions to exemplify HMM parameters\")\n",
    "    for uniqueId in range(numIds):\n",
    "        exemplifyTransition(uniqueIds.index[uniqueId], dataBureau)"
   ]
  },
  {
   "cell_type": "markdown",
   "id": "e7ff04b7",
   "metadata": {},
   "source": [
    "### Cleaning Bureau for Markov Chain"
   ]
  },
  {
   "attachments": {
    "Screenshot%20from%202022-06-20%2018-30-43-2.png": {
     "image/png": "[encoded data removed]"
    }
   },
   "cell_type": "markdown",
   "id": "d5aaf5d1",
   "metadata": {},
   "source": [
    "##### Simplifying STATUS Values\n",
    "Per Santos' credit default HMM analysis, we will keep things simple by having only 3 or 4 states.\n",
    "The below code should:\n",
    "\n",
    "set non-performing (1 thru 4) to a single state (2)\n",
    "\n",
    "set 0 to (1), C closed should be ignored for the purposes of our model, and unknown should be guessed. These values may simply be tentatively set to 3 for now.\n",
    "\n",
    "set 5 to (4) for default \n",
    "\n",
    "![Screenshot%20from%202022-06-20%2018-30-43-2.png](attachment:Screenshot%20from%202022-06-20%2018-30-43-2.png)"
   ]
  },
  {
   "cell_type": "code",
   "execution_count": 61,
   "id": "fc25f263",
   "metadata": {},
   "outputs": [
    {
     "name": "stdout",
     "output_type": "stream",
     "text": [
      "3    19457475\n",
      "1     7499507\n",
      "2      280537\n",
      "4       62406\n",
      "Name: STATUS, dtype: int64\n"
     ]
    }
   ],
   "source": [
    "# Copy our data frame before we begin to clean it\n",
    "dataBureau2 = dataBureau.copy()\n",
    "\n",
    "# Non-Performing: Since STATUS is strings we'll do an array check. Worse runtime but easy to read\n",
    "type2 = ['1', '2', '3', '4']\n",
    "dataBureau2['STATUS'] = dataBureau2['STATUS'].apply(lambda x: 2 if x in type2 else x)\n",
    "\n",
    "# Performing: Set 0s to 1 just to match our Markov Model charts\n",
    "type1 = ['0']\n",
    "dataBureau2['STATUS'] = dataBureau2['STATUS'].apply(lambda x: 1 if x in type1 else x)\n",
    "\n",
    "# Default\n",
    "type4 = ['5']\n",
    "dataBureau2['STATUS'] = dataBureau2['STATUS'].apply(lambda x: 4 if x in type4 else x)\n",
    "\n",
    "# Other: 'Modified' for now\n",
    "type3 = ['C', 'X']\n",
    "dataBureau2['STATUS'] = dataBureau2['STATUS'].apply(lambda x: 3 if x in type3 else x)\n",
    "\n",
    "# Show that now we have 4 states\n",
    "print(dataBureau2['STATUS'].value_counts())"
   ]
  },
  {
   "cell_type": "markdown",
   "id": "ce42ad2f",
   "metadata": {},
   "source": [
    "##### Exemplifying Transitions with Cleaned Status Model"
   ]
  },
  {
   "cell_type": "code",
   "execution_count": 62,
   "id": "047dc6f8",
   "metadata": {},
   "outputs": [
    {
     "name": "stdout",
     "output_type": "stream",
     "text": [
      "There are:  817395 unique IDs in data bureau\n",
      "Printing first 4 variable transitions to exemplify HMM parameters\n",
      "ID: 5645521\n",
      "3 -> 3 -> 3 -> 3 -> 3 -> 3 -> 3 -> 3 -> 3 -> 3 -> 3 -> 3 -> 3 -> 3 -> 3 -> 3 -> 3 -> 3 -> 3 -> 3 -> 3 -> 3 -> 3 -> 3 -> 3 -> 3 -> 3 -> 3 -> 3 -> 3 -> 3 -> 3 -> 3 -> 3 -> 3 -> 3 -> 3 -> 3 -> 3 -> 3 -> 3 -> 3 -> 3 -> 3 -> 3 -> 3 -> 3 -> 3 -> 3 -> 3 -> 3 -> 3 -> 3 -> 3 -> 3 -> 3 -> 3 -> 3 -> 3 -> 3 -> 3 -> 3 -> 3 -> 3 -> 3 -> 3 -> 3 -> 3 -> 3 -> 3 -> 3 -> 3 -> 3 -> 3 -> 3 -> 3 -> 3 -> 3 -> 3 -> 3 -> 3 -> 3 -> 3 -> 3 -> 3 -> 3 -> 3 -> 3 -> 3 -> 3 -> 3 -> 3 -> 3 -> 3 -> 3 -> 3 -> 3 -> \n",
      " ---------------------------------------------------------------------------------------------------------\n",
      "ID: 6733619\n",
      "3 -> 3 -> 3 -> 3 -> 3 -> 3 -> 3 -> 3 -> 3 -> 3 -> 3 -> 3 -> 3 -> 3 -> 3 -> 3 -> 3 -> 3 -> 3 -> 3 -> 3 -> 3 -> 3 -> 3 -> 3 -> 3 -> 3 -> 3 -> 3 -> 3 -> 3 -> 3 -> 3 -> 3 -> 3 -> 3 -> 3 -> 3 -> 3 -> 3 -> 3 -> 3 -> 3 -> 3 -> 3 -> 3 -> 3 -> 3 -> 3 -> 3 -> 3 -> 3 -> 3 -> 3 -> 3 -> 3 -> 3 -> 3 -> 3 -> 3 -> 3 -> 3 -> 3 -> 3 -> 3 -> 3 -> 3 -> 3 -> 3 -> 3 -> 3 -> 3 -> 3 -> 3 -> 3 -> 3 -> 3 -> 3 -> 3 -> 3 -> 3 -> 3 -> 3 -> 3 -> 3 -> 3 -> 3 -> 3 -> 3 -> 3 -> 3 -> 3 -> 3 -> 3 -> 3 -> 3 -> 3 -> \n",
      " ---------------------------------------------------------------------------------------------------------\n",
      "ID: 6176606\n",
      "3 -> 3 -> 3 -> 3 -> 3 -> 3 -> 3 -> 3 -> 3 -> 3 -> 3 -> 3 -> 3 -> 3 -> 3 -> 3 -> 3 -> 3 -> 3 -> 3 -> 3 -> 3 -> 3 -> 3 -> 3 -> 3 -> 3 -> 3 -> 3 -> 3 -> 3 -> 3 -> 3 -> 3 -> 3 -> 3 -> 3 -> 3 -> 3 -> 3 -> 3 -> 3 -> 3 -> 3 -> 3 -> 3 -> 3 -> 3 -> 3 -> 3 -> 3 -> 3 -> 3 -> 3 -> 3 -> 3 -> 3 -> 3 -> 3 -> 3 -> 3 -> 3 -> 3 -> 3 -> 3 -> 3 -> 3 -> 3 -> 3 -> 3 -> 3 -> 3 -> 3 -> 3 -> 3 -> 3 -> 3 -> 3 -> 3 -> 3 -> 3 -> 3 -> 3 -> 3 -> 3 -> 3 -> 3 -> 3 -> 3 -> 3 -> 3 -> 3 -> 3 -> 1 -> 1 -> 1 -> 1 -> \n",
      " ---------------------------------------------------------------------------------------------------------\n",
      "ID: 6321834\n",
      "3 -> 3 -> 3 -> 3 -> 3 -> 3 -> 3 -> 3 -> 3 -> 3 -> 3 -> 3 -> 3 -> 3 -> 3 -> 3 -> 3 -> 3 -> 3 -> 3 -> 3 -> 3 -> 3 -> 3 -> 3 -> 3 -> 3 -> 3 -> 3 -> 3 -> 3 -> 3 -> 3 -> 3 -> 3 -> 3 -> 3 -> 3 -> 3 -> 3 -> 3 -> 3 -> 3 -> 3 -> 3 -> 3 -> 3 -> 3 -> 3 -> 3 -> 3 -> 3 -> 3 -> 3 -> 3 -> 3 -> 3 -> 3 -> 3 -> 3 -> 3 -> 3 -> 3 -> 3 -> 3 -> 3 -> 3 -> 3 -> 3 -> 3 -> 3 -> 3 -> 3 -> 3 -> 3 -> 3 -> 3 -> 3 -> 3 -> 3 -> 3 -> 3 -> 4 -> 2 -> 2 -> 2 -> 2 -> 2 -> 2 -> 1 -> 1 -> 1 -> 1 -> 1 -> 1 -> 2 -> 2 -> \n",
      " ---------------------------------------------------------------------------------------------------------\n"
     ]
    }
   ],
   "source": [
    "# Amount of IDs we wish to see the markovian chains for - usually set to small number to save runtime\n",
    "numIds = 4\n",
    "\n",
    "# Determines unique bureau IDs and iterates through desired number, exemplifying Markovian chains\n",
    "uniqueIds = dataBureau2['SK_ID_BUREAU'].value_counts()\n",
    "if debug == True:\n",
    "    print(\"There are: \", len(uniqueIds), \"unique IDs in data bureau\")\n",
    "    print(\"Printing first\",numIds,\"variable transitions to exemplify HMM parameters\")\n",
    "    for uniqueId in range(numIds):\n",
    "        exemplifyTransition(uniqueIds.index[uniqueId], dataBureau2)"
   ]
  },
  {
   "attachments": {
    "Screenshot%20from%202022-06-20%2018-31-47.png": {
     "image/png": "[encoded data removed]"
    }
   },
   "cell_type": "markdown",
   "id": "ea9d3cb2",
   "metadata": {},
   "source": [
    "### HMM\n",
    "![Screenshot%20from%202022-06-20%2018-31-47.png](attachment:Screenshot%20from%202022-06-20%2018-31-47.png)"
   ]
  },
  {
   "cell_type": "code",
   "execution_count": 63,
   "id": "32052b53",
   "metadata": {},
   "outputs": [],
   "source": [
    "# Obtains a Markov Chain for an ID\n",
    "def getSeries(idVal, df):\n",
    "    ret = []\n",
    "    incr = 0\n",
    "    for i in df['SK_ID_BUREAU']:\n",
    "        if i == idVal:\n",
    "            ret.append(df['STATUS'][incr])\n",
    "        incr = incr+1\n",
    "    return ret"
   ]
  },
  {
   "cell_type": "markdown",
   "id": "ba2d1dbe",
   "metadata": {},
   "source": [
    "##### Determining Node Frequencies"
   ]
  },
  {
   "cell_type": "code",
   "execution_count": 64,
   "id": "91eca884",
   "metadata": {},
   "outputs": [
    {
     "data": {
      "text/plain": [
       "3    19457475\n",
       "1     7499507\n",
       "2      280537\n",
       "4       62406\n",
       "Name: STATUS, dtype: int64"
      ]
     },
     "execution_count": 64,
     "metadata": {},
     "output_type": "execute_result"
    }
   ],
   "source": [
    "dataBureau2['STATUS'].value_counts()"
   ]
  },
  {
   "cell_type": "markdown",
   "id": "86893673",
   "metadata": {},
   "source": [
    "##### Engineering HMM State Space"
   ]
  },
  {
   "cell_type": "code",
   "execution_count": 65,
   "id": "c9ffc155",
   "metadata": {},
   "outputs": [
    {
     "name": "stdout",
     "output_type": "stream",
     "text": [
      "Performing        0.712730\n",
      "Non-Performing    0.274708\n",
      "Modified          0.010276\n",
      "Default           0.002286\n",
      "Name: states, dtype: float64\n",
      "0.9999999999999999\n"
     ]
    }
   ],
   "source": [
    "# Define states for our HMM\n",
    "states = ['Performing', 'Non-Performing', 'Modified', 'Default']\n",
    "\n",
    "# Define frequency for each state\n",
    "pi = []\n",
    "for i in dataBureau2['STATUS'].value_counts():\n",
    "    pi.append(i/dataBureau2.shape[0])\n",
    "\n",
    "    \n",
    "state_space = pd.Series(pi, index=states, name='states')\n",
    "print(state_space)\n",
    "print(state_space.sum())"
   ]
  },
  {
   "cell_type": "markdown",
   "id": "67e52831",
   "metadata": {},
   "source": [
    "##### Create Transition Matrix"
   ]
  },
  {
   "cell_type": "code",
   "execution_count": 66,
   "id": "407a60d7",
   "metadata": {},
   "outputs": [
    {
     "name": "stdout",
     "output_type": "stream",
     "text": [
      "               Performing Non-Performing Modified Default\n",
      "Performing            0.4            0.2      0.2     0.2\n",
      "Non-Performing        0.4            0.4      0.1     0.1\n",
      "Modified              0.4            0.2      0.2     0.2\n",
      "Default               0.4            0.2      0.2     0.2\n",
      "\n",
      " [[0.4 0.2 0.2 0.2]\n",
      " [0.4 0.4 0.1 0.1]\n",
      " [0.4 0.2 0.2 0.2]\n",
      " [0.4 0.2 0.2 0.2]] (4, 4) \n",
      "\n",
      "Performing        1.0\n",
      "Non-Performing    1.0\n",
      "Modified          1.0\n",
      "Default           1.0\n",
      "dtype: float64\n"
     ]
    }
   ],
   "source": [
    "# create transition matrix\n",
    "# equals transition probability matrix of changing states given a state\n",
    "# matrix is size (M x M) where M is number of states\n",
    "\n",
    "q_df = pd.DataFrame(columns=states, index=states)\n",
    "q_df.loc[states[0]] = [0.4, 0.2, 0.2, 0.2]\n",
    "q_df.loc[states[1]] = [0.4, 0.4, 0.1, .1]\n",
    "q_df.loc[states[2]] = [0.4, 0.2, .2, .2]\n",
    "q_df.loc[states[3]] = [0.4, 0.2, .2, .2]\n",
    "\n",
    "print(q_df)\n",
    "\n",
    "q = q_df.values\n",
    "print('\\n', q, q.shape, '\\n')\n",
    "print(q_df.sum(axis=1))"
   ]
  },
  {
   "cell_type": "markdown",
   "id": "181c861b",
   "metadata": {},
   "source": [
    "##### Getting Markov Edges"
   ]
  },
  {
   "cell_type": "code",
   "execution_count": 67,
   "id": "05784bf4",
   "metadata": {},
   "outputs": [
    {
     "name": "stdout",
     "output_type": "stream",
     "text": [
      "{('Default', 'Default'): 0.2,\n",
      " ('Default', 'Modified'): 0.2,\n",
      " ('Default', 'Non-Performing'): 0.2,\n",
      " ('Default', 'Performing'): 0.4,\n",
      " ('Modified', 'Default'): 0.2,\n",
      " ('Modified', 'Modified'): 0.2,\n",
      " ('Modified', 'Non-Performing'): 0.2,\n",
      " ('Modified', 'Performing'): 0.4,\n",
      " ('Non-Performing', 'Default'): 0.1,\n",
      " ('Non-Performing', 'Modified'): 0.1,\n",
      " ('Non-Performing', 'Non-Performing'): 0.4,\n",
      " ('Non-Performing', 'Performing'): 0.4,\n",
      " ('Performing', 'Default'): 0.2,\n",
      " ('Performing', 'Modified'): 0.2,\n",
      " ('Performing', 'Non-Performing'): 0.2,\n",
      " ('Performing', 'Performing'): 0.4}\n"
     ]
    }
   ],
   "source": [
    "from pprint import pprint \n",
    "\n",
    "# create a function that maps transition probability dataframe \n",
    "# to markov edges and weights\n",
    "\n",
    "def _get_markov_edges(Q):\n",
    "    edges = {}\n",
    "    for col in Q.columns:\n",
    "        for idx in Q.index:\n",
    "            edges[(idx,col)] = Q.loc[idx,col]\n",
    "    return edges\n",
    "\n",
    "edges_wts = _get_markov_edges(q_df)\n",
    "pprint(edges_wts)"
   ]
  },
  {
   "cell_type": "code",
   "execution_count": 68,
   "id": "06ef3beb",
   "metadata": {},
   "outputs": [
    {
     "ename": "NameError",
     "evalue": "name 'hmm' is not defined",
     "output_type": "error",
     "traceback": [
      "\u001b[0;31m---------------------------------------------------------------------------\u001b[0m",
      "\u001b[0;31mNameError\u001b[0m                                 Traceback (most recent call last)",
      "\u001b[1;32m/home/feeks/USD_MSAAI/ML_Intro/asg2/aai-510-01-su22-new-ianfeekes-sandiego/Module_7/Modeling2.ipynb Cell 79'\u001b[0m in \u001b[0;36m<cell line: 2>\u001b[0;34m()\u001b[0m\n\u001b[1;32m      <a href='vscode-notebook-cell:/home/feeks/USD_MSAAI/ML_Intro/asg2/aai-510-01-su22-new-ianfeekes-sandiego/Module_7/Modeling2.ipynb#ch0000078?line=0'>1</a>\u001b[0m \u001b[39m# Left-right HMM\u001b[39;00m\n\u001b[0;32m----> <a href='vscode-notebook-cell:/home/feeks/USD_MSAAI/ML_Intro/asg2/aai-510-01-su22-new-ianfeekes-sandiego/Module_7/Modeling2.ipynb#ch0000078?line=1'>2</a>\u001b[0m lr \u001b[39m=\u001b[39m hmm\u001b[39m.\u001b[39mGaussianHMM(n_components\u001b[39m=\u001b[39m\u001b[39m4\u001b[39m, covariance_type\u001b[39m=\u001b[39m\u001b[39m\"\u001b[39m\u001b[39mdiag\u001b[39m\u001b[39m\"\u001b[39m,\n\u001b[1;32m      <a href='vscode-notebook-cell:/home/feeks/USD_MSAAI/ML_Intro/asg2/aai-510-01-su22-new-ianfeekes-sandiego/Module_7/Modeling2.ipynb#ch0000078?line=2'>3</a>\u001b[0m                      init_params\u001b[39m=\u001b[39m\u001b[39m\"\u001b[39m\u001b[39mcm\u001b[39m\u001b[39m\"\u001b[39m, params\u001b[39m=\u001b[39m\u001b[39m\"\u001b[39m\u001b[39mcmt\u001b[39m\u001b[39m\"\u001b[39m)\n\u001b[1;32m      <a href='vscode-notebook-cell:/home/feeks/USD_MSAAI/ML_Intro/asg2/aai-510-01-su22-new-ianfeekes-sandiego/Module_7/Modeling2.ipynb#ch0000078?line=3'>4</a>\u001b[0m lr\u001b[39m.\u001b[39mfit(getSeries(uniqueIds\u001b[39m.\u001b[39mindex[\u001b[39m0\u001b[39m], dataBureau2))\n",
      "\u001b[0;31mNameError\u001b[0m: name 'hmm' is not defined"
     ]
    }
   ],
   "source": [
    "# Left-right HMM\n",
    "lr = hmm.GaussianHMM(n_components=4, covariance_type=\"diag\",\n",
    "                     init_params=\"cm\", params=\"cmt\")\n",
    "lr.fit(getSeries(uniqueIds.index[0], dataBureau2))"
   ]
  },
  {
   "cell_type": "code",
   "execution_count": null,
   "id": "68480124",
   "metadata": {},
   "outputs": [],
   "source": [
    "from hmmlearn.hmm import GaussianHMM\n",
    " \n",
    "def fitHMM(Q, nSamples):\n",
    "    # fit Gaussian HMM to Q\n",
    "    #model = GaussianHMM(n_components=4, n_iter=1000).fit(np.reshape(Q,[len(Q),1]))\n",
    "    model = GaussianHMM(n_components=4, n_iter=1000).fit(np.reshape(Q,[len(Q),1]))\n",
    "     \n",
    "    # classify each observation as state 0 or 1\n",
    "    hidden_states = model.predict(np.reshape(Q,[len(Q),1]))\n",
    " \n",
    "    # find parameters of Gaussian HMM\n",
    "    mus = np.array(model.means_)\n",
    "    sigmas = np.array(np.sqrt(np.array([np.diag(model.covars_[0]),np.diag(model.covars_[1])])))\n",
    "    P = np.array(model.transmat_)\n",
    " \n",
    "    # find log-likelihood of Gaussian HMM\n",
    "    logProb = model.score(np.reshape(Q,[len(Q),1]))\n",
    " \n",
    "    # generate nSamples from Gaussian HMM\n",
    "    samples = model.sample(nSamples)\n",
    " \n",
    "    # re-organize mus, sigmas and P so that first row is lower mean (if not already)\n",
    "    if mus[0] > mus[1]:\n",
    "        mus = np.flipud(mus)\n",
    "        sigmas = np.flipud(sigmas)\n",
    "        P = np.fliplr(np.flipud(P))\n",
    "        hidden_states = 1 - hidden_states\n",
    " \n",
    "    return hidden_states, mus, sigmas, P, logProb, samples, model\n",
    " \n",
    "#logQ = getSeries(uniqueIds.index[0], dataBureau2)\n",
    "#logQ = dataBureau2['STATUS']\n",
    "#np.reshape(dataBureau2['STATUS'], [len(dataBureau2['STATUS']), 1])\n",
    "hidden_states, mus, sigmas, P, logProb, samples, model = fitHMM(logQ, 100)"
   ]
  },
  {
   "cell_type": "code",
   "execution_count": null,
   "id": "ff35dc1b",
   "metadata": {},
   "outputs": [],
   "source": [
    "for i in range(len(uniqueIds.index)):\n",
    "    currSeries = getSeries(uniqueIds.index[i], dataBureau2)\n",
    "    hidden_states, mus, sigmas, P, logProb, samples, model = fitHMM(currSeries, 100)\n",
    "    print(model.predict())\n",
    "    \n",
    "#for i in range(len(uniqueIds.index)):\n",
    "#    print(i)\n",
    "\n",
    "#logQ = getSeries(uniqueIds.index[0], dataBureau2)\n"
   ]
  },
  {
   "cell_type": "code",
   "execution_count": null,
   "id": "93ddf31b",
   "metadata": {},
   "outputs": [],
   "source": [
    "Z2 = model.predict(np.reshape(logQ, [len(logQ),1]))\n",
    "Z2"
   ]
  },
  {
   "cell_type": "code",
   "execution_count": null,
   "id": "90dcb5be",
   "metadata": {},
   "outputs": [],
   "source": [
    "# Import hmm libraries\n",
    "import numpy as np\n",
    "from hmmlearn import hmm\n",
    "np.random.seed(42)\n",
    "\n",
    "# Create HMM\n",
    "model = hmm.GaussianHMM(n_components = 4, covariance_type = \"full\")\n",
    "model.startprob_ = np.array([.5,.5,.5,.5])\n",
    "model.transmat_ = np.array([[.5,.5,.5]\n",
    "                            [.5,.5,.5],\n",
    "                            [.5,.5,.5]])\n"
   ]
  },
  {
   "cell_type": "code",
   "execution_count": null,
   "id": "ff469c88",
   "metadata": {},
   "outputs": [],
   "source": [
    "import numpy as np\n",
    "from hmmlearn import hmm\n",
    "np.random.seed(42)\n",
    "\n",
    "# Create HMM\n",
    "model = hmm.GaussianHMM(n_components=3, covariance_type=\"full\")\n",
    "model.startprob_ = np.array([0.6, 0.3, 0.1])\n",
    "model.transmat_ = np.array([[0.7, 0.2, 0.1],\n",
    "                            [0.3, 0.5, 0.2],\n",
    "                            [0.3, 0.3, 0.4]])\n",
    "model.means_ = np.array([[0.0, 0.0], [3.0, -3.0], [5.0, 10.0]])\n",
    "model.covars_ = np.tile(np.identity(2), (3, 1, 1))\n",
    "X, Z = model.sample(100)"
   ]
  },
  {
   "cell_type": "code",
   "execution_count": null,
   "id": "9bd78c9d",
   "metadata": {},
   "outputs": [],
   "source": [
    "# Left-right HMM\n",
    "lr = hmm.GaussianHMM(n_components=3, covariance_type=\"diag\",\n",
    "                     init_params=\"cm\", params=\"cmt\")\n",
    "lr.startprob_ = np.array([1.0, 0.0, 0.0])\n",
    "lr.transmat_ = np.array([[0.5, 0.5, 0.0],\n",
    "                         [0.0, 0.5, 0.5],\n",
    "                         [0.0, 0.0, 1.0]])"
   ]
  },
  {
   "cell_type": "code",
   "execution_count": null,
   "id": "2f73562c",
   "metadata": {},
   "outputs": [],
   "source": [
    "model = hmm.GaussianHMM(n_components=3, n_iter=100, init_params=\"mcs\")\n",
    "model.transmat_ = np.array([[0.7, 0.2, 0.1],\n",
    "                            [0.3, 0.5, 0.2],\n",
    "                            [0.3, 0.3, 0.4]])"
   ]
  },
  {
   "cell_type": "code",
   "execution_count": null,
   "id": "ddaee664",
   "metadata": {},
   "outputs": [],
   "source": [
    "model.fit(X)"
   ]
  },
  {
   "cell_type": "code",
   "execution_count": null,
   "id": "9ee61d02",
   "metadata": {},
   "outputs": [],
   "source": [
    "Z2 = model.predict(X)\n",
    "Z2"
   ]
  }
 ],
 "metadata": {
  "interpreter": {
   "hash": "31f2aee4e71d21fbe5cf8b01ff0e069b9275f58929596ceb00d14d90e3e16cd6"
  },
  "kernelspec": {
   "display_name": "Python 3 (ipykernel)",
   "language": "python",
   "name": "python3"
  },
  "language_info": {
   "codemirror_mode": {
    "name": "ipython",
    "version": 3
   },
   "file_extension": ".py",
   "mimetype": "text/x-python",
   "name": "python",
   "nbconvert_exporter": "python",
   "pygments_lexer": "ipython3",
   "version": "3.8.10"
  }
 },
 "nbformat": 4,
 "nbformat_minor": 5
}
